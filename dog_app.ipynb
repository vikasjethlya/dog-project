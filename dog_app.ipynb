{
 "cells": [
  {
   "cell_type": "markdown",
   "metadata": {},
   "source": [
    "# Artificial Intelligence Nanodegree\n",
    "\n",
    "## Convolutional Neural Networks\n",
    "\n",
    "## Project: Write an Algorithm for a Dog Identification App \n",
    "\n",
    "---\n",
    "\n",
    "In this notebook, some template code has already been provided for you, and you will need to implement additional functionality to successfully complete this project. You will not need to modify the included code beyond what is requested. Sections that begin with **'(IMPLEMENTATION)'** in the header indicate that the following block of code will require additional functionality which you must provide. Instructions will be provided for each section, and the specifics of the implementation are marked in the code block with a 'TODO' statement. Please be sure to read the instructions carefully! \n",
    "\n",
    "> **Note**: Once you have completed all of the code implementations, you need to finalize your work by exporting the iPython Notebook as an HTML document. Before exporting the notebook to html, all of the code cells need to have been run so that reviewers can see the final implementation and output. You can then export the notebook by using the menu above and navigating to  \\n\",\n",
    "    \"**File -> Download as -> HTML (.html)**. Include the finished document along with this notebook as your submission.\n",
    "\n",
    "In addition to implementing code, there will be questions that you must answer which relate to the project and your implementation. Each section where you will answer a question is preceded by a **'Question X'** header. Carefully read each question and provide thorough answers in the following text boxes that begin with **'Answer:'**. Your project submission will be evaluated based on your answers to each of the questions and the implementation you provide.\n",
    "\n",
    ">**Note:** Code and Markdown cells can be executed using the **Shift + Enter** keyboard shortcut.  Markdown cells can be edited by double-clicking the cell to enter edit mode.\n",
    "\n",
    "The rubric contains _optional_ \"Stand Out Suggestions\" for enhancing the project beyond the minimum requirements. If you decide to pursue the \"Stand Out Suggestions\", you should include the code in this IPython notebook.\n",
    "\n",
    "\n",
    "\n",
    "---\n",
    "### Why We're Here \n",
    "\n",
    "In this notebook, you will make the first steps towards developing an algorithm that could be used as part of a mobile or web app.  At the end of this project, your code will accept any user-supplied image as input.  If a dog is detected in the image, it will provide an estimate of the dog's breed.  If a human is detected, it will provide an estimate of the dog breed that is most resembling.  The image below displays potential sample output of your finished project (... but we expect that each student's algorithm will behave differently!). \n",
    "\n",
    "![Sample Dog Output](images/sample_dog_output.png)\n",
    "\n",
    "In this real-world setting, you will need to piece together a series of models to perform different tasks; for instance, the algorithm that detects humans in an image will be different from the CNN that infers dog breed.  There are many points of possible failure, and no perfect algorithm exists.  Your imperfect solution will nonetheless create a fun user experience!\n",
    "\n",
    "### The Road Ahead\n",
    "\n",
    "We break the notebook into separate steps.  Feel free to use the links below to navigate the notebook.\n",
    "\n",
    "* [Step 0](#step0): Import Datasets\n",
    "* [Step 1](#step1): Detect Humans\n",
    "* [Step 2](#step2): Detect Dogs\n",
    "* [Step 3](#step3): Create a CNN to Classify Dog Breeds (from Scratch)\n",
    "* [Step 4](#step4): Use a CNN to Classify Dog Breeds (using Transfer Learning)\n",
    "* [Step 5](#step5): Create a CNN to Classify Dog Breeds (using Transfer Learning)\n",
    "* [Step 6](#step6): Write your Algorithm\n",
    "* [Step 7](#step7): Test Your Algorithm\n",
    "\n",
    "---\n",
    "<a id='step0'></a>\n",
    "## Step 0: Import Datasets\n",
    "\n",
    "### Import Dog Dataset\n",
    "\n",
    "In the code cell below, we import a dataset of dog images.  We populate a few variables through the use of the `load_files` function from the scikit-learn library:\n",
    "- `train_files`, `valid_files`, `test_files` - numpy arrays containing file paths to images\n",
    "- `train_targets`, `valid_targets`, `test_targets` - numpy arrays containing onehot-encoded classification labels \n",
    "- `dog_names` - list of string-valued dog breed names for translating labels"
   ]
  },
  {
   "cell_type": "code",
   "execution_count": 1,
   "metadata": {},
   "outputs": [
    {
     "name": "stderr",
     "output_type": "stream",
     "text": [
      "Using TensorFlow backend.\n"
     ]
    },
    {
     "name": "stdout",
     "output_type": "stream",
     "text": [
      "There are 133 total dog categories.\n",
      "There are 8351 total dog images.\n",
      "\n",
      "There are 6680 training dog images.\n",
      "There are 835 validation dog images.\n",
      "There are 836 test dog images.\n"
     ]
    }
   ],
   "source": [
    "from sklearn.datasets import load_files       \n",
    "from keras.utils import np_utils\n",
    "import numpy as np\n",
    "from glob import glob\n",
    "from sklearn.utils import shuffle\n",
    "\n",
    "# define function to load train, test, and validation datasets\n",
    "def load_dataset(path):\n",
    "    data = load_files(path)\n",
    "    dog_files = np.array(data['filenames'])\n",
    "    dog_targets = np_utils.to_categorical(np.array(data['target']), 133)\n",
    "    return dog_files, dog_targets\n",
    "\n",
    "# load train, test, and validation datasets\n",
    "train_files, train_targets = load_dataset('dogImages/train')\n",
    "valid_files, valid_targets = load_dataset('dogImages/valid')\n",
    "test_files, test_targets = load_dataset('dogImages/test')\n",
    "\n",
    "# load list of dog names\n",
    "dog_names = [item[20:-1] for item in sorted(glob(\"dogImages/train/*/\"))]\n",
    "\n",
    "# print statistics about the dataset\n",
    "print('There are %d total dog categories.' % len(dog_names))\n",
    "print('There are %s total dog images.\\n' % len(np.hstack([train_files, valid_files, test_files])))\n",
    "print('There are %d training dog images.' % len(train_files))\n",
    "print('There are %d validation dog images.' % len(valid_files))\n",
    "print('There are %d test dog images.'% len(test_files))"
   ]
  },
  {
   "cell_type": "code",
   "execution_count": 2,
   "metadata": {},
   "outputs": [
    {
     "name": "stdout",
     "output_type": "stream",
     "text": [
      "Done\n"
     ]
    }
   ],
   "source": [
    "# Save data in pickle file \n",
    "import pickle \n",
    "from glob import glob\n",
    "\n",
    "pickle.dump( train_files, open( \"train_files.p\", \"wb\" ) )\n",
    "pickle.dump( train_targets, open( \"train_targets.p\", \"wb\" ) )\n",
    "\n",
    "pickle.dump( valid_files, open( \"valid_files.p\", \"wb\" ) )\n",
    "pickle.dump( valid_targets, open( \"valid_targets.p\", \"wb\" ) )\n",
    "\n",
    "pickle.dump( test_files, open( \"test_files.p\", \"wb\" ) )\n",
    "pickle.dump( test_targets, open( \"test_targets.p\", \"wb\" ) )\n",
    "\n",
    "print(\"Done\")"
   ]
  },
  {
   "cell_type": "code",
   "execution_count": 2,
   "metadata": {},
   "outputs": [
    {
     "name": "stdout",
     "output_type": "stream",
     "text": [
      "There are 133 total dog categories.\n",
      "There are 8351 total dog images.\n",
      "\n",
      "There are 6680 training dog images.\n",
      "There are 835 validation dog images.\n",
      "There are 836 test dog images.\n"
     ]
    }
   ],
   "source": [
    "# Load Data \n",
    "import pickle \n",
    "from glob import glob\n",
    "import numpy as np\n",
    "from sklearn.utils import shuffle\n",
    "\n",
    "train_files = pickle.load( open( \"train_files.p\", \"rb\" ) )\n",
    "train_targets = pickle.load( open( \"train_targets.p\", \"rb\" ) )\n",
    "\n",
    "valid_files = pickle.load( open( \"valid_files.p\", \"rb\" ) )\n",
    "valid_targets = pickle.load( open( \"valid_targets.p\", \"rb\" ) )\n",
    "\n",
    "test_files = pickle.load( open( \"test_files.p\", \"rb\" ) )\n",
    "test_targets = pickle.load( open( \"test_targets.p\", \"rb\" ) )\n",
    "\n",
    "# load list of dog names\n",
    "dog_names = [item[20:-1] for item in sorted(glob(\"dogImages/train/*/\"))]\n",
    "\n",
    "# print statistics about the dataset\n",
    "print('There are %d total dog categories.' % len(dog_names))\n",
    "print('There are %s total dog images.\\n' % len(np.hstack([train_files, valid_files, test_files])))\n",
    "print('There are %d training dog images.' % len(train_files))\n",
    "print('There are %d validation dog images.' % len(valid_files))\n",
    "print('There are %d test dog images.'% len(test_files))"
   ]
  },
  {
   "cell_type": "markdown",
   "metadata": {},
   "source": [
    "### Import Human Dataset\n",
    "\n",
    "In the code cell below, we import a dataset of human images, where the file paths are stored in the numpy array `human_files`."
   ]
  },
  {
   "cell_type": "code",
   "execution_count": 4,
   "metadata": {},
   "outputs": [
    {
     "name": "stdout",
     "output_type": "stream",
     "text": [
      "There are 13233 total human images.\n"
     ]
    }
   ],
   "source": [
    "import random\n",
    "random.seed(8675309)\n",
    "\n",
    "# load filenames in shuffled human dataset\n",
    "human_files = np.array(glob(\"lfw/*/*\"))\n",
    "random.shuffle(human_files)\n",
    "\n",
    "# print statistics about the dataset\n",
    "print('There are %d total human images.' % len(human_files))"
   ]
  },
  {
   "cell_type": "code",
   "execution_count": 5,
   "metadata": {
    "collapsed": true
   },
   "outputs": [],
   "source": [
    "# Save Human files in pickle \n",
    "pickle.dump( human_files, open( \"human_files.p\", \"wb\" ) )"
   ]
  },
  {
   "cell_type": "code",
   "execution_count": 6,
   "metadata": {},
   "outputs": [
    {
     "name": "stdout",
     "output_type": "stream",
     "text": [
      "There are 13233 total human images.\n"
     ]
    }
   ],
   "source": [
    "# Load pickle file \n",
    "import random\n",
    "random.seed(8675309)\n",
    "\n",
    "human_files = pickle.load( open( \"human_files.p\", \"rb\" ) )\n",
    "\n",
    "random.shuffle(human_files)\n",
    "\n",
    "# print statistics about the dataset\n",
    "print('There are %d total human images.' % len(human_files))"
   ]
  },
  {
   "cell_type": "markdown",
   "metadata": {},
   "source": [
    "---\n",
    "<a id='step1'></a>\n",
    "## Step 1: Detect Humans\n",
    "\n",
    "We use OpenCV's implementation of [Haar feature-based cascade classifiers](http://docs.opencv.org/trunk/d7/d8b/tutorial_py_face_detection.html) to detect human faces in images.  OpenCV provides many pre-trained face detectors, stored as XML files on [github](https://github.com/opencv/opencv/tree/master/data/haarcascades).  We have downloaded one of these detectors and stored it in the `haarcascades` directory.\n",
    "\n",
    "In the next code cell, we demonstrate how to use this detector to find human faces in a sample image."
   ]
  },
  {
   "cell_type": "code",
   "execution_count": 7,
   "metadata": {},
   "outputs": [
    {
     "name": "stdout",
     "output_type": "stream",
     "text": [
      "Number of faces detected: 2\n"
     ]
    },
    {
     "data": {
      "image/png": "[encoded data removed]",
      "text/plain": [
       "<matplotlib.figure.Figure at 0x7f4748f17198>"
      ]
     },
     "metadata": {},
     "output_type": "display_data"
    }
   ],
   "source": [
    "import cv2                \n",
    "import matplotlib.pyplot as plt                        \n",
    "%matplotlib inline                               \n",
    "\n",
    "# extract pre-trained face detector\n",
    "face_cascade = cv2.CascadeClassifier('haarcascades/haarcascade_frontalface_alt.xml')\n",
    "\n",
    "# load color (BGR) image\n",
    "img = cv2.imread(human_files[3])\n",
    "# convert BGR image to grayscale\n",
    "gray = cv2.cvtColor(img, cv2.COLOR_BGR2GRAY)\n",
    "\n",
    "# find faces in image\n",
    "faces = face_cascade.detectMultiScale(gray)\n",
    "\n",
    "# print number of faces detected in the image\n",
    "print('Number of faces detected:', len(faces))\n",
    "\n",
    "# get bounding box for each detected face\n",
    "for (x,y,w,h) in faces:\n",
    "    # add bounding box to color image\n",
    "    cv2.rectangle(img,(x,y),(x+w,y+h),(255,0,0),2)\n",
    "    \n",
    "# convert BGR image to RGB for plotting\n",
    "cv_rgb = cv2.cvtColor(img, cv2.COLOR_BGR2RGB)\n",
    "\n",
    "# display the image, along with bounding box\n",
    "plt.imshow(cv_rgb)\n",
    "plt.show()"
   ]
  },
  {
   "cell_type": "markdown",
   "metadata": {},
   "source": [
    "Before using any of the face detectors, it is standard procedure to convert the images to grayscale.  The `detectMultiScale` function executes the classifier stored in `face_cascade` and takes the grayscale image as a parameter.  \n",
    "\n",
    "In the above code, `faces` is a numpy array of detected faces, where each row corresponds to a detected face.  Each detected face is a 1D array with four entries that specifies the bounding box of the detected face.  The first two entries in the array (extracted in the above code as `x` and `y`) specify the horizontal and vertical positions of the top left corner of the bounding box.  The last two entries in the array (extracted here as `w` and `h`) specify the width and height of the box.\n",
    "\n",
    "### Write a Human Face Detector\n",
    "\n",
    "We can use this procedure to write a function that returns `True` if a human face is detected in an image and `False` otherwise.  This function, aptly named `face_detector`, takes a string-valued file path to an image as input and appears in the code block below."
   ]
  },
  {
   "cell_type": "code",
   "execution_count": 8,
   "metadata": {
    "collapsed": true
   },
   "outputs": [],
   "source": [
    "# returns \"True\" if face is detected in image stored at img_path\n",
    "def face_detector(img_path):\n",
    "    img = cv2.imread(img_path)\n",
    "    gray = cv2.cvtColor(img, cv2.COLOR_BGR2GRAY)\n",
    "    faces = face_cascade.detectMultiScale(gray)\n",
    "    return len(faces) > 0"
   ]
  },
  {
   "cell_type": "markdown",
   "metadata": {},
   "source": [
    "### (IMPLEMENTATION) Assess the Human Face Detector\n",
    "\n",
    "__Question 1:__ Use the code cell below to test the performance of the `face_detector` function.  \n",
    "- What percentage of the first 100 images in `human_files` have a detected human face?  \n",
    "- What percentage of the first 100 images in `dog_files` have a detected human face? \n",
    "\n",
    "Ideally, we would like 100% of human images with a detected face and 0% of dog images with a detected face.  You will see that our algorithm falls short of this goal, but still gives acceptable performance.  We extract the file paths for the first 100 images from each of the datasets and store them in the numpy arrays `human_files_short` and `dog_files_short`.\n",
    "\n",
    "__Answer:__ \n",
    "As you can see below, the face detector isn't 100 % accurate. It finds human faces in 11% of the dog photos.\n",
    "\n",
    "Further, the technique we selected for face detection requires a clear view of a face (ie. doesn't perform well on occlusions). If we wanted better performance for a wider variety of photo conditions, we could build a CNN specifically for detecting human faces. The training data should include a diverse set of images from a wide variety of angles, lighting conditions, and partial obscurations (wearing a hat, hand in front of face, etc)."
   ]
  },
  {
   "cell_type": "code",
   "execution_count": 9,
   "metadata": {},
   "outputs": [
    {
     "name": "stdout",
     "output_type": "stream",
     "text": [
      "Human face in human image DB: 98.00%\n",
      "Human face in Dog image DB: 11.00%\n"
     ]
    }
   ],
   "source": [
    "human_files_short = human_files[:100]\n",
    "dog_files_short = train_files[:100]\n",
    "# Do NOT modify the code above this line.\n",
    "\n",
    "## TODO: Test the performance of the face_detector algorithm \n",
    "\n",
    "def face_detector_performance(files):\n",
    "    human_ct = 0\n",
    "    for i in range(len(files)):\n",
    "        if(face_detector(files[i])):\n",
    "            human_ct +=1\n",
    "    human_face_per = 100 * human_ct/len(files)\n",
    "    return human_face_per\n",
    "\n",
    "print(\"Human face in human image DB: %.2f%%\" % face_detector_performance(human_files_short))\n",
    "print(\"Human face in Dog image DB: %.2f%%\" % face_detector_performance(dog_files_short))\n",
    "\n",
    "## on the images in human_files_short and dog_files_short."
   ]
  },
  {
   "cell_type": "markdown",
   "metadata": {},
   "source": [
    "__Question 2:__ This algorithmic choice necessitates that we communicate to the user that we accept human images only when they provide a clear view of a face (otherwise, we risk having unneccessarily frustrated users!). In your opinion, is this a reasonable expectation to pose on the user? If not, can you think of a way to detect humans in images that does not necessitate an image with a clearly presented face?\n",
    "\n",
    "__Answer:__\n",
    "Haarcascade classifier unable to work with edge or contour features that describe the outline of shapes such as the shape of the profile face. haarcascade classifier is suitable for blob like features such as those commonly found on frontal faces. This is why haar-like features work best for frontal face detection. Hence It reasonable expectation and ask user that we accept human images only when they provide a clear view of a face. Because this will help for better accuracy for classfier. Haarcascade classifier has limitation and it unable to work with edge or contour features that describe the outline of shapes such as the shape of the profile face.\n",
    "\n",
    "If we want to detect iamges which is not having clearly presented face, we need to develop CNN model which is good for richer set of fetaure extraction and Haarcascade classifier limitation can be fixed with CNN model."
   ]
  },
  {
   "cell_type": "markdown",
   "metadata": {},
   "source": [
    "We suggest the face detector from OpenCV as a potential way to detect human images in your algorithm, but you are free to explore other approaches, especially approaches that make use of deep learning :).  Please use the code cell below to design and test your own face detection algorithm.  If you decide to pursue this _optional_ task, report performance on each of the datasets."
   ]
  },
  {
   "cell_type": "code",
   "execution_count": 10,
   "metadata": {
    "collapsed": true
   },
   "outputs": [],
   "source": [
    "## (Optional) TODO: Report the performance of another  \n",
    "## face detection algorithm on the LFW dataset\n",
    "### Feel free to use as many code cells as needed."
   ]
  },
  {
   "cell_type": "markdown",
   "metadata": {},
   "source": [
    "---\n",
    "<a id='step2'></a>\n",
    "## Step 2: Detect Dogs\n",
    "\n",
    "In this section, we use a pre-trained [ResNet-50](http://ethereon.github.io/netscope/#/gist/db945b393d40bfa26006) model to detect dogs in images.  Our first line of code downloads the ResNet-50 model, along with weights that have been trained on [ImageNet](http://www.image-net.org/), a very large, very popular dataset used for image classification and other vision tasks.  ImageNet contains over 10 million URLs, each linking to an image containing an object from one of [1000 categories](https://gist.github.com/yrevar/942d3a0ac09ec9e5eb3a).  Given an image, this pre-trained ResNet-50 model returns a prediction (derived from the available categories in ImageNet) for the object that is contained in the image."
   ]
  },
  {
   "cell_type": "code",
   "execution_count": 11,
   "metadata": {
    "collapsed": true
   },
   "outputs": [],
   "source": [
    "from keras.applications.resnet50 import ResNet50\n",
    "\n",
    "# define ResNet50 model\n",
    "ResNet50_model = ResNet50(weights='imagenet')"
   ]
  },
  {
   "cell_type": "markdown",
   "metadata": {},
   "source": [
    "### Pre-process the Data\n",
    "\n",
    "When using TensorFlow as backend, Keras CNNs require a 4D array (which we'll also refer to as a 4D tensor) as input, with shape\n",
    "\n",
    "$$\n",
    "(\\text{nb_samples}, \\text{rows}, \\text{columns}, \\text{channels}),\n",
    "$$\n",
    "\n",
    "where `nb_samples` corresponds to the total number of images (or samples), and `rows`, `columns`, and `channels` correspond to the number of rows, columns, and channels for each image, respectively.  \n",
    "\n",
    "The `path_to_tensor` function below takes a string-valued file path to a color image as input and returns a 4D tensor suitable for supplying to a Keras CNN.  The function first loads the image and resizes it to a square image that is $224 \\times 224$ pixels.  Next, the image is converted to an array, which is then resized to a 4D tensor.  In this case, since we are working with color images, each image has three channels.  Likewise, since we are processing a single image (or sample), the returned tensor will always have shape\n",
    "\n",
    "$$\n",
    "(1, 224, 224, 3).\n",
    "$$\n",
    "\n",
    "The `paths_to_tensor` function takes a numpy array of string-valued image paths as input and returns a 4D tensor with shape \n",
    "\n",
    "$$\n",
    "(\\text{nb_samples}, 224, 224, 3).\n",
    "$$\n",
    "\n",
    "Here, `nb_samples` is the number of samples, or number of images, in the supplied array of image paths.  It is best to think of `nb_samples` as the number of 3D tensors (where each 3D tensor corresponds to a different image) in your dataset!"
   ]
  },
  {
   "cell_type": "code",
   "execution_count": 12,
   "metadata": {
    "collapsed": true
   },
   "outputs": [],
   "source": [
    "from keras.preprocessing import image                  \n",
    "from tqdm import tqdm\n",
    "\n",
    "def path_to_tensor(img_path):\n",
    "    # loads RGB image as PIL.Image.Image type\n",
    "    img = image.load_img(img_path, target_size=(224, 224))\n",
    "    # convert PIL.Image.Image type to 3D tensor with shape (224, 224, 3)\n",
    "    x = image.img_to_array(img)\n",
    "    # convert 3D tensor to 4D tensor with shape (1, 224, 224, 3) and return 4D tensor\n",
    "    return np.expand_dims(x, axis=0)\n",
    "\n",
    "def paths_to_tensor(img_paths):\n",
    "    list_of_tensors = [path_to_tensor(img_path) for img_path in tqdm(img_paths)]\n",
    "    return np.vstack(list_of_tensors)"
   ]
  },
  {
   "cell_type": "markdown",
   "metadata": {},
   "source": [
    "### Making Predictions with ResNet-50\n",
    "\n",
    "Getting the 4D tensor ready for ResNet-50, and for any other pre-trained model in Keras, requires some additional processing.  First, the RGB image is converted to BGR by reordering the channels.  All pre-trained models have the additional normalization step that the mean pixel (expressed in RGB as $[103.939, 116.779, 123.68]$ and calculated from all pixels in all images in ImageNet) must be subtracted from every pixel in each image.  This is implemented in the imported function `preprocess_input`.  If you're curious, you can check the code for `preprocess_input` [here](https://github.com/fchollet/keras/blob/master/keras/applications/imagenet_utils.py).\n",
    "\n",
    "Now that we have a way to format our image for supplying to ResNet-50, we are now ready to use the model to extract the predictions.  This is accomplished with the `predict` method, which returns an array whose $i$-th entry is the model's predicted probability that the image belongs to the $i$-th ImageNet category.  This is implemented in the `ResNet50_predict_labels` function below.\n",
    "\n",
    "By taking the argmax of the predicted probability vector, we obtain an integer corresponding to the model's predicted object class, which we can identify with an object category through the use of this [dictionary](https://gist.github.com/yrevar/942d3a0ac09ec9e5eb3a). "
   ]
  },
  {
   "cell_type": "code",
   "execution_count": 13,
   "metadata": {
    "collapsed": true
   },
   "outputs": [],
   "source": [
    "from keras.applications.resnet50 import preprocess_input, decode_predictions\n",
    "\n",
    "def ResNet50_predict_labels(img_path):\n",
    "    # returns prediction vector for image located at img_path\n",
    "    img = preprocess_input(path_to_tensor(img_path))\n",
    "    return np.argmax(ResNet50_model.predict(img))"
   ]
  },
  {
   "cell_type": "markdown",
   "metadata": {},
   "source": [
    "### Write a Dog Detector\n",
    "\n",
    "While looking at the [dictionary](https://gist.github.com/yrevar/942d3a0ac09ec9e5eb3a), you will notice that the categories corresponding to dogs appear in an uninterrupted sequence and correspond to dictionary keys 151-268, inclusive, to include all categories from `'Chihuahua'` to `'Mexican hairless'`.  Thus, in order to check to see if an image is predicted to contain a dog by the pre-trained ResNet-50 model, we need only check if the `ResNet50_predict_labels` function above returns a value between 151 and 268 (inclusive).\n",
    "\n",
    "We use these ideas to complete the `dog_detector` function below, which returns `True` if a dog is detected in an image (and `False` if not)."
   ]
  },
  {
   "cell_type": "code",
   "execution_count": 14,
   "metadata": {
    "collapsed": true
   },
   "outputs": [],
   "source": [
    "### returns \"True\" if a dog is detected in the image stored at img_path\n",
    "def dog_detector(img_path):\n",
    "    prediction = ResNet50_predict_labels(img_path)\n",
    "    return ((prediction <= 268) & (prediction >= 151)) "
   ]
  },
  {
   "cell_type": "markdown",
   "metadata": {},
   "source": [
    "### (IMPLEMENTATION) Assess the Dog Detector\n",
    "\n",
    "__Question 3:__ Use the code cell below to test the performance of your `dog_detector` function.  \n",
    "- What percentage of the images in `human_files_short` have a detected dog?  \n",
    "- What percentage of the images in `dog_files_short` have a detected dog?\n",
    "\n",
    "__Answer:__ "
   ]
  },
  {
   "cell_type": "code",
   "execution_count": 15,
   "metadata": {},
   "outputs": [
    {
     "name": "stdout",
     "output_type": "stream",
     "text": [
      "Dog face Detector pecentage performance in Human image list: 2.00%\n",
      "Dog face Detector pecentage performance in Dog image list: 100.00%\n"
     ]
    }
   ],
   "source": [
    "### TODO: Test the performance of the dog_detector function\n",
    "### on the images in human_files_short and dog_files_short.\n",
    "\n",
    "def dog_detector_performance(files):\n",
    "    dog_ct = 0\n",
    "    for i in range(len(files)):\n",
    "        if(dog_detector(files[i])):\n",
    "            dog_ct +=1\n",
    "    dog_face_per = 100 * dog_ct/len(files)\n",
    "    return dog_face_per\n",
    "\n",
    "print(\"Dog face Detector pecentage performance in Human image list: %.2f%%\" % dog_detector_performance(human_files_short))\n",
    "print(\"Dog face Detector pecentage performance in Dog image list: %.2f%%\" % dog_detector_performance(dog_files_short))"
   ]
  },
  {
   "cell_type": "markdown",
   "metadata": {},
   "source": [
    "As we can see, the dog detector performs better than the human face detector, only detecting dogs in 2% of the human photos.\n"
   ]
  },
  {
   "cell_type": "markdown",
   "metadata": {},
   "source": [
    "---\n",
    "<a id='step3'></a>\n",
    "## Step 3: Create a CNN to Classify Dog Breeds (from Scratch)\n",
    "\n",
    "Now that we have functions for detecting humans and dogs in images, we need a way to predict breed from images.  In this step, you will create a CNN that classifies dog breeds.  You must create your CNN _from scratch_ (so, you can't use transfer learning _yet_!), and you must attain a test accuracy of at least 1%.  In Step 5 of this notebook, you will have the opportunity to use transfer learning to create a CNN that attains greatly improved accuracy.\n",
    "\n",
    "Be careful with adding too many trainable layers!  More parameters means longer training, which means you are more likely to need a GPU to accelerate the training process.  Thankfully, Keras provides a handy estimate of the time that each epoch is likely to take; you can extrapolate this estimate to figure out how long it will take for your algorithm to train. \n",
    "\n",
    "We mention that the task of assigning breed to dogs from images is considered exceptionally challenging.  To see why, consider that *even a human* would have great difficulty in distinguishing between a Brittany and a Welsh Springer Spaniel.  \n",
    "\n",
    "Brittany | Welsh Springer Spaniel\n",
    "- | - \n",
    "<img src=\"images/Brittany_02625.jpg\" width=\"100\"> | <img src=\"images/Welsh_springer_spaniel_08203.jpg\" width=\"200\">\n",
    "\n",
    "It is not difficult to find other dog breed pairs with minimal inter-class variation (for instance, Curly-Coated Retrievers and American Water Spaniels).  \n",
    "\n",
    "Curly-Coated Retriever | American Water Spaniel\n",
    "- | -\n",
    "<img src=\"images/Curly-coated_retriever_03896.jpg\" width=\"200\"> | <img src=\"images/American_water_spaniel_00648.jpg\" width=\"200\">\n",
    "\n",
    "\n",
    "Likewise, recall that labradors come in yellow, chocolate, and black.  Your vision-based algorithm will have to conquer this high intra-class variation to determine how to classify all of these different shades as the same breed.  \n",
    "\n",
    "Yellow Labrador | Chocolate Labrador | Black Labrador\n",
    "- | -\n",
    "<img src=\"images/Labrador_retriever_06457.jpg\" width=\"150\"> | <img src=\"images/Labrador_retriever_06455.jpg\" width=\"240\"> | <img src=\"images/Labrador_retriever_06449.jpg\" width=\"220\">\n",
    "\n",
    "We also mention that random chance presents an exceptionally low bar: setting aside the fact that the classes are slightly imabalanced, a random guess will provide a correct answer roughly 1 in 133 times, which corresponds to an accuracy of less than 1%.  \n",
    "\n",
    "Remember that the practice is far ahead of the theory in deep learning.  Experiment with many different architectures, and trust your intuition.  And, of course, have fun! \n",
    "\n",
    "### Pre-process the Data\n",
    "\n",
    "We rescale the images by dividing every pixel in every image by 255."
   ]
  },
  {
   "cell_type": "code",
   "execution_count": 16,
   "metadata": {},
   "outputs": [
    {
     "name": "stderr",
     "output_type": "stream",
     "text": [
      "100%|██████████| 835/835 [00:07<00:00, 115.09it/s]\n",
      "100%|██████████| 836/836 [00:07<00:00, 118.65it/s]\n"
     ]
    }
   ],
   "source": [
    "from PIL import ImageFile                            \n",
    "ImageFile.LOAD_TRUNCATED_IMAGES = True               \n",
    "\n",
    "# pre-process the data for Keras\n",
    "#train_tensors = paths_to_tensor(train_files[:3000]).astype('float32')/255\n",
    "valid_tensors = paths_to_tensor(valid_files).astype('float32')/255\n",
    "test_tensors = paths_to_tensor(test_files).astype('float32')/255\n",
    "#print(train_tensors.shape)"
   ]
  },
  {
   "cell_type": "markdown",
   "metadata": {},
   "source": [
    "**Note :** My system has limitation of CPU RAM (6 GB of RAM). That's why I commented \"train_tensors\" . I used genertor to below in code to load the images and convert into (224,224,3) shape np array. "
   ]
  },
  {
   "cell_type": "markdown",
   "metadata": {},
   "source": [
    "### (IMPLEMENTATION) Model Architecture\n",
    "\n",
    "Create a CNN to classify dog breed.  At the end of your code cell block, summarize the layers of your model by executing the line:\n",
    "    \n",
    "        model.summary()\n",
    "\n",
    "We have imported some Python modules to get you started, but feel free to import as many modules as you need.  If you end up getting stuck, here's a hint that specifies a model that trains relatively fast on CPU and attains >1% test accuracy in 5 epochs:\n",
    "\n",
    "![Sample CNN](images/sample_cnn.png)\n",
    "           \n",
    "__Question 4:__ Outline the steps you took to get to your final CNN architecture and your reasoning at each step.  If you chose to use the hinted architecture above, describe why you think that CNN architecture should work well for the image classification task.\n",
    "\n",
    "__Answer:__ I have chossen to implement above suggested architecture. I think it is good enough because if we go for more deeper model it will tend to overfit because we are having just 6680 training images. I have 3 CNN layer and maxpoling after every CNN layer and then i had used Global Average pooling layes , a dense layer with softmax activation.\n",
    "\n",
    "** Why CNN Layers** Used CNN becuase it is good for feature extraction and that will help in breed classification. It is state of art classification which give btter accuracy as compare to neural netwrok.\n",
    "\n",
    "** Why RelU? :** RelU is used to add non relearity and help in generalizion of model.\n",
    "\n",
    "** Why Maxpooling :** This will help to reduce the number of parameter and help is better genarlization.it makes detection of ceratin feature invariant to scale and orientation changes of\n",
    "\n",
    "**Global Avaergae Pooling :** This will help reducing reducing the parameter which result into faster training reducing memory usage.\n",
    "\n",
    "** Why dense with Softmax activation :** Dense layer is linear operation in which every input is connected to every output by a weight. Dense layer is used in the end with softmax activation to give probability of each breed in image."
   ]
  },
  {
   "cell_type": "code",
   "execution_count": 17,
   "metadata": {},
   "outputs": [
    {
     "name": "stdout",
     "output_type": "stream",
     "text": [
      "_________________________________________________________________\n",
      "Layer (type)                 Output Shape              Param #   \n",
      "=================================================================\n",
      "conv2d_1 (Conv2D)            (None, 223, 223, 16)      208       \n",
      "_________________________________________________________________\n",
      "max_pooling2d_2 (MaxPooling2 (None, 111, 111, 16)      0         \n",
      "_________________________________________________________________\n",
      "conv2d_2 (Conv2D)            (None, 110, 110, 32)      2080      \n",
      "_________________________________________________________________\n",
      "max_pooling2d_3 (MaxPooling2 (None, 55, 55, 32)        0         \n",
      "_________________________________________________________________\n",
      "conv2d_3 (Conv2D)            (None, 54, 54, 64)        8256      \n",
      "_________________________________________________________________\n",
      "max_pooling2d_4 (MaxPooling2 (None, 27, 27, 64)        0         \n",
      "_________________________________________________________________\n",
      "flatten_2 (Flatten)          (None, 46656)             0         \n",
      "_________________________________________________________________\n",
      "dense_1 (Dense)              (None, 133)               6205381   \n",
      "_________________________________________________________________\n",
      "activation_50 (Activation)   (None, 133)               0         \n",
      "=================================================================\n",
      "Total params: 6,215,925\n",
      "Trainable params: 6,215,925\n",
      "Non-trainable params: 0\n",
      "_________________________________________________________________\n"
     ]
    }
   ],
   "source": [
    "from keras.layers import Conv2D, MaxPooling2D, GlobalAveragePooling2D\n",
    "from keras.layers import Dropout, Flatten, Dense\n",
    "from keras.models import Sequential\n",
    "from keras.layers.convolutional import Convolution2D\n",
    "from keras.layers import Lambda\n",
    "from keras.layers.convolutional import Cropping2D\n",
    "from keras.layers.core import Dense, Activation, Flatten, Dropout\n",
    "\n",
    "#model = Sequential()\n",
    "\n",
    "### TODO: Define your architecture.\n",
    "\n",
    "def simple_model():\n",
    "    model = Sequential()\n",
    "    \n",
    "    model.add(Conv2D(filters = 16, kernel_size = 2, activation='relu', input_shape=(224,224,3)))\n",
    "    model.add(MaxPooling2D(pool_size=(2,2)))\n",
    "    \n",
    "    model.add(Conv2D(filters = 32, kernel_size = 2, activation='relu'))\n",
    "    model.add(MaxPooling2D(pool_size=(2,2)))\n",
    "    \n",
    "    model.add(Conv2D(filters = 64, kernel_size = 2, activation='relu'))\n",
    "    model.add(MaxPooling2D(pool_size=(2,2)))\n",
    "    \n",
    "    model.add(Flatten())\n",
    "    #model.add(GlobalAveragePooling2D())\n",
    "    model.add(Dense(133))\n",
    "    model.add(Activation('softmax'))\n",
    "    model.summary()\n",
    "    return model \n",
    "\n",
    "def lenet_model():\n",
    "    print('Inside Lenet model')\n",
    "\n",
    "    model = Sequential()\n",
    "\n",
    "    # Set up lamda layer\n",
    "    #model.add(Lambda(lambda x: x /255 - 0.5, input_shape=(224,224,3), output_shape=(224,224,3)))\n",
    "\n",
    "    # cropping the image\n",
    "    #model.add(Cropping2D(cropping=((65,25), (0,0))))\n",
    "\n",
    "    # Conv Layer 1\n",
    "    model.add(Convolution2D(6, 5, 5, border_mode='valid', input_shape=(3,224,224)))\n",
    "    model.add(Activation('relu'))\n",
    "    model.add(MaxPooling2D(pool_size=(2,2)))\n",
    "\n",
    "    # Conv Layer 2\n",
    "    model.add(Convolution2D(16, 5, 5, border_mode='valid'))\n",
    "    model.add(Activation('relu'))\n",
    "    model.add(MaxPooling2D(pool_size=(2,2)))\n",
    "\n",
    "    # Flatten the output for FC\t\t\t\t\t\t\n",
    "    model.add(Flatten())\n",
    "\n",
    "    # FC Layer 1\n",
    "    model.add(Dense(256))\n",
    "\n",
    "    # Output Layer 2\n",
    "    model.add(Dense(133))\n",
    "\n",
    "    print('Exiting Lenet model')\n",
    "    model.summary()\n",
    "    return model\n",
    "\n",
    "model = simple_model()\n",
    "#model = lenet_model()"
   ]
  },
  {
   "cell_type": "code",
   "execution_count": 18,
   "metadata": {
    "collapsed": true
   },
   "outputs": [],
   "source": [
    "import sklearn\n",
    "from sklearn.utils import shuffle\n",
    "def get_batches(x, y, n_batches=10):\n",
    "    \"\"\" Return a generator that yields batches from arrays x and y. \"\"\"\n",
    "    \n",
    "    batch_size = len(x)//n_batches\n",
    "    \n",
    "    for ii in range(0, n_batches*batch_size, batch_size):\n",
    "        # If we're not on the last batch, grab data with size batch_size\n",
    "        if ii != (n_batches-1)*batch_size:\n",
    "            X, Y = x[ii: ii+batch_size], y[ii: ii+batch_size] \n",
    "        # On the last batch, grab the rest of the data\n",
    "        else:\n",
    "            X, Y = x[ii:], y[ii:]\n",
    "        # I love generators\n",
    "        X_tensors = paths_to_tensor(X).astype('float32')/255\n",
    "        #sklearn.utils.shuffle(X_train, y_train)\n",
    "        yield sklearn.utils.shuffle(X_tensors, Y)"
   ]
  },
  {
   "cell_type": "markdown",
   "metadata": {},
   "source": [
    "### Compile the Model"
   ]
  },
  {
   "cell_type": "code",
   "execution_count": 19,
   "metadata": {
    "collapsed": true
   },
   "outputs": [],
   "source": [
    "model.compile(optimizer='rmsprop', loss='categorical_crossentropy', metrics=['accuracy'])"
   ]
  },
  {
   "cell_type": "markdown",
   "metadata": {},
   "source": [
    "### (IMPLEMENTATION) Train the Model\n",
    "\n",
    "Train your model in the code cell below.  Use model checkpointing to save the model that attains the best validation loss.\n",
    "\n",
    "You are welcome to [augment the training data](https://blog.keras.io/building-powerful-image-classification-models-using-very-little-data.html), but this is not a requirement. "
   ]
  },
  {
   "cell_type": "code",
   "execution_count": 20,
   "metadata": {},
   "outputs": [
    {
     "name": "stderr",
     "output_type": "stream",
     "text": [
      "100%|██████████| 668/668 [00:14<00:00, 45.35it/s]\n"
     ]
    },
    {
     "name": "stdout",
     "output_type": "stream",
     "text": [
      "Train on 668 samples, validate on 835 samples\n",
      "Epoch 1/5\n",
      "650/668 [============================>.] - ETA: 0s - loss: 5.6949 - acc: 0.0108Epoch 00000: val_loss improved from inf to 4.87500, saving model to saved_models/weights.best.from_scratch.hdf5\n",
      "668/668 [==============================] - 3s - loss: 5.6777 - acc: 0.0105 - val_loss: 4.8750 - val_acc: 0.0120\n",
      "Epoch 2/5\n",
      "650/668 [============================>.] - ETA: 0s - loss: 4.4527 - acc: 0.078 - ETA: 0s - loss: 4.4386 - acc: 0.0754Epoch 00001: val_loss did not improve\n",
      "668/668 [==============================] - 1s - loss: 4.4370 - acc: 0.0778 - val_loss: 4.9152 - val_acc: 0.0251\n",
      "Epoch 3/5\n",
      "650/668 [============================>.] - ETA: 0s - loss: 3.3122 - acc: 0.3369Epoch 00002: val_loss did not improve\n",
      "668/668 [==============================] - 1s - loss: 3.3007 - acc: 0.3353 - val_loss: 5.5995 - val_acc: 0.0168\n",
      "Epoch 4/5\n",
      "650/668 [============================>.] - ETA: 0s - loss: 1.6331 - acc: 0.7031Epoch 00003: val_loss did not improve\n",
      "668/668 [==============================] - 2s - loss: 1.6237 - acc: 0.7051 - val_loss: 6.3443 - val_acc: 0.0132\n",
      "Epoch 5/5\n",
      "650/668 [============================>.] - ETA: 0s - loss: 0.5357 - acc: 0.9215Epoch 00004: val_loss did not improve\n",
      "668/668 [==============================] - 2s - loss: 0.5278 - acc: 0.9222 - val_loss: 6.9939 - val_acc: 0.0287"
     ]
    },
    {
     "name": "stderr",
     "output_type": "stream",
     "text": [
      "  1%|          | 5/668 [00:00<00:13, 48.44it/s]"
     ]
    },
    {
     "name": "stdout",
     "output_type": "stream",
     "text": [
      "\n"
     ]
    },
    {
     "name": "stderr",
     "output_type": "stream",
     "text": [
      "100%|██████████| 668/668 [00:16<00:00, 39.94it/s]\n"
     ]
    },
    {
     "name": "stdout",
     "output_type": "stream",
     "text": [
      "Train on 668 samples, validate on 835 samples\n",
      "Epoch 1/5\n",
      "650/668 [============================>.] - ETA: 0s - loss: 5.1157 - acc: 0.0292Epoch 00000: val_loss improved from 4.87500 to 4.76548, saving model to saved_models/weights.best.from_scratch.hdf5\n",
      "668/668 [==============================] - 9s - loss: 5.1051 - acc: 0.0299 - val_loss: 4.7655 - val_acc: 0.0263\n",
      "Epoch 2/5\n",
      "650/668 [============================>.] - ETA: 0s - loss: 3.6541 - acc: 0.2077Epoch 00001: val_loss did not improve\n",
      "668/668 [==============================] - 2s - loss: 3.6404 - acc: 0.2066 - val_loss: 5.1552 - val_acc: 0.0395\n",
      "Epoch 3/5\n",
      "650/668 [============================>.] - ETA: 0s - loss: 1.9289 - acc: 0.6046Epoch 00002: val_loss did not improve\n",
      "668/668 [==============================] - 2s - loss: 1.9241 - acc: 0.6033 - val_loss: 6.0114 - val_acc: 0.0240\n",
      "Epoch 4/5\n",
      "650/668 [============================>.] - ETA: 0s - loss: 0.6113 - acc: 0.8938Epoch 00003: val_loss did not improve\n",
      "668/668 [==============================] - 2s - loss: 0.6122 - acc: 0.8922 - val_loss: 6.8292 - val_acc: 0.0287\n",
      "Epoch 5/5\n",
      "650/668 [============================>.] - ETA: 0s - loss: 0.1909 - acc: 0.9754- ETA: 0s - loss: 0.1956 - acc: 0.973Epoch 00004: val_loss did not improve\n",
      "668/668 [==============================] - 1s - loss: 0.1887 - acc: 0.9760 - val_loss: 7.5469 - val_acc: 0.0383"
     ]
    },
    {
     "name": "stderr",
     "output_type": "stream",
     "text": [
      "\r",
      "  0%|          | 0/668 [00:00<?, ?it/s]"
     ]
    },
    {
     "name": "stdout",
     "output_type": "stream",
     "text": [
      "\n"
     ]
    },
    {
     "name": "stderr",
     "output_type": "stream",
     "text": [
      "100%|██████████| 668/668 [00:18<00:00, 36.14it/s]\n"
     ]
    },
    {
     "name": "stdout",
     "output_type": "stream",
     "text": [
      "Train on 668 samples, validate on 835 samples\n",
      "Epoch 1/5\n",
      "650/668 [============================>.] - ETA: 0s - loss: 5.1550 - acc: 0.0354- ETA: 0s - loss: 5.2263 - acc: 0.03Epoch 00000: val_loss improved from 4.76548 to 4.71066, saving model to saved_models/weights.best.from_scratch.hdf5\n",
      "668/668 [==============================] - 2s - loss: 5.1516 - acc: 0.0374 - val_loss: 4.7107 - val_acc: 0.0419\n",
      "Epoch 2/5\n",
      "650/668 [============================>.] - ETA: 0s - loss: 3.3055 - acc: 0.3123- ETA: 0s - loss: 3.3910 - acc: 0Epoch 00001: val_loss did not improve\n",
      "668/668 [==============================] - 1s - loss: 3.2806 - acc: 0.3174 - val_loss: 5.6399 - val_acc: 0.0491\n",
      "Epoch 3/5\n",
      "650/668 [============================>.] - ETA: 0s - loss: 1.3521 - acc: 0.7400Epoch 00002: val_loss did not improve\n",
      "668/668 [==============================] - 1s - loss: 1.3515 - acc: 0.7410 - val_loss: 6.0154 - val_acc: 0.0419\n",
      "Epoch 4/5\n",
      "650/668 [============================>.] - ETA: 0s - loss: 0.3731 - acc: 0.9385Epoch 00003: val_loss did not improve\n",
      "668/668 [==============================] - 1s - loss: 0.3668 - acc: 0.9401 - val_loss: 6.6222 - val_acc: 0.0407\n",
      "Epoch 5/5\n",
      "650/668 [============================>.] - ETA: 0s - loss: 0.0877 - acc: 0.9892Epoch 00004: val_loss did not improve\n",
      "668/668 [==============================] - 2s - loss: 0.0892 - acc: 0.9895 - val_loss: 8.3119 - val_acc: 0.0407"
     ]
    },
    {
     "name": "stderr",
     "output_type": "stream",
     "text": [
      "  1%|          | 4/668 [00:00<00:20, 32.63it/s]"
     ]
    },
    {
     "name": "stdout",
     "output_type": "stream",
     "text": [
      "\n"
     ]
    },
    {
     "name": "stderr",
     "output_type": "stream",
     "text": [
      "100%|██████████| 668/668 [00:16<00:00, 39.04it/s]\n"
     ]
    },
    {
     "name": "stdout",
     "output_type": "stream",
     "text": [
      "Train on 668 samples, validate on 835 samples\n",
      "Epoch 1/5\n",
      "650/668 [============================>.] - ETA: 0s - loss: 5.3674 - acc: 0.0385Epoch 00000: val_loss improved from 4.71066 to 4.68986, saving model to saved_models/weights.best.from_scratch.hdf5\n",
      "668/668 [==============================] - 2s - loss: 5.3549 - acc: 0.0389 - val_loss: 4.6899 - val_acc: 0.0407\n",
      "Epoch 2/5\n",
      "650/668 [============================>.] - ETA: 0s - loss: 3.2790 - acc: 0.2877Epoch 00001: val_loss did not improve\n",
      "668/668 [==============================] - 1s - loss: 3.2605 - acc: 0.2904 - val_loss: 5.2707 - val_acc: 0.0575\n",
      "Epoch 3/5\n",
      "650/668 [============================>.] - ETA: 0s - loss: 1.3785 - acc: 0.7354Epoch 00002: val_loss did not improve\n",
      "668/668 [==============================] - 1s - loss: 1.3588 - acc: 0.7380 - val_loss: 6.0552 - val_acc: 0.0551\n",
      "Epoch 4/5\n",
      "650/668 [============================>.] - ETA: 0s - loss: 0.3776 - acc: 0.9477Epoch 00003: val_loss did not improve\n",
      "668/668 [==============================] - 1s - loss: 0.3721 - acc: 0.9491 - val_loss: 7.1895 - val_acc: 0.0539\n",
      "Epoch 5/5\n",
      "650/668 [============================>.] - ETA: 0s - loss: 0.0945 - acc: 0.9877Epoch 00004: val_loss did not improve\n",
      "668/668 [==============================] - 1s - loss: 0.0921 - acc: 0.9880 - val_loss: 7.2356 - val_acc: 0.0515"
     ]
    },
    {
     "name": "stderr",
     "output_type": "stream",
     "text": [
      "  1%|          | 5/668 [00:00<00:13, 47.57it/s]"
     ]
    },
    {
     "name": "stdout",
     "output_type": "stream",
     "text": [
      "\n"
     ]
    },
    {
     "name": "stderr",
     "output_type": "stream",
     "text": [
      "100%|██████████| 668/668 [00:17<00:00, 37.73it/s]\n"
     ]
    },
    {
     "name": "stdout",
     "output_type": "stream",
     "text": [
      "Train on 668 samples, validate on 835 samples\n",
      "Epoch 1/5\n",
      "650/668 [============================>.] - ETA: 0s - loss: 4.9539 - acc: 0.0554- ETA: 0s - loss: 5.2305 - acc: 0.054 - ETA: 0s - loss: 5.1692 - acc: 0Epoch 00000: val_loss improved from 4.68986 to 4.66329, saving model to saved_models/weights.best.from_scratch.hdf5\n",
      "668/668 [==============================] - 2s - loss: 4.9405 - acc: 0.0539 - val_loss: 4.6633 - val_acc: 0.0443\n",
      "Epoch 2/5\n",
      "650/668 [============================>.] - ETA: 0s - loss: 3.1386 - acc: 0.3123Epoch 00001: val_loss did not improve\n",
      "668/668 [==============================] - 1s - loss: 3.1362 - acc: 0.3144 - val_loss: 5.2493 - val_acc: 0.0407\n",
      "Epoch 3/5\n",
      "650/668 [============================>.] - ETA: 0s - loss: 1.3496 - acc: 0.6985Epoch 00002: val_loss did not improve\n",
      "668/668 [==============================] - 2s - loss: 1.3536 - acc: 0.6961 - val_loss: 5.8514 - val_acc: 0.0479\n",
      "Epoch 4/5\n",
      "650/668 [============================>.] - ETA: 0s - loss: 0.3687 - acc: 0.9354Epoch 00003: val_loss did not improve\n",
      "668/668 [==============================] - 2s - loss: 0.3659 - acc: 0.9356 - val_loss: 6.7126 - val_acc: 0.0503\n",
      "Epoch 5/5\n",
      "650/668 [============================>.] - ETA: 0s - loss: 0.0829 - acc: 0.9938Epoch 00004: val_loss did not improve\n",
      "668/668 [==============================] - 1s - loss: 0.0839 - acc: 0.9925 - val_loss: 8.6351 - val_acc: 0.0455"
     ]
    },
    {
     "name": "stderr",
     "output_type": "stream",
     "text": [
      "  1%|          | 5/668 [00:00<00:14, 46.30it/s]"
     ]
    },
    {
     "name": "stdout",
     "output_type": "stream",
     "text": [
      "\n"
     ]
    },
    {
     "name": "stderr",
     "output_type": "stream",
     "text": [
      "100%|██████████| 668/668 [00:17<00:00, 38.68it/s]\n"
     ]
    },
    {
     "name": "stdout",
     "output_type": "stream",
     "text": [
      "Train on 668 samples, validate on 835 samples\n",
      "Epoch 1/5\n",
      "650/668 [============================>.] - ETA: 0s - loss: 5.2653 - acc: 0.0585Epoch 00000: val_loss improved from 4.66329 to 4.60225, saving model to saved_models/weights.best.from_scratch.hdf5\n",
      "668/668 [==============================] - 2s - loss: 5.2466 - acc: 0.0584 - val_loss: 4.6023 - val_acc: 0.0587\n",
      "Epoch 2/5\n",
      "650/668 [============================>.] - ETA: 0s - loss: 3.0904 - acc: 0.3277Epoch 00001: val_loss did not improve\n",
      "668/668 [==============================] - 1s - loss: 3.0911 - acc: 0.3278 - val_loss: 5.2188 - val_acc: 0.0719\n",
      "Epoch 3/5\n",
      "650/668 [============================>.] - ETA: 0s - loss: 1.3142 - acc: 0.7015Epoch 00002: val_loss did not improve\n",
      "668/668 [==============================] - 1s - loss: 1.3362 - acc: 0.6976 - val_loss: 5.6703 - val_acc: 0.0731\n",
      "Epoch 4/5\n",
      "650/668 [============================>.] - ETA: 0s - loss: 0.3610 - acc: 0.9323Epoch 00003: val_loss did not improve\n",
      "668/668 [==============================] - 1s - loss: 0.3573 - acc: 0.9326 - val_loss: 6.7846 - val_acc: 0.0647\n",
      "Epoch 5/5\n",
      "650/668 [============================>.] - ETA: 0s - loss: 0.0911 - acc: 0.9846Epoch 00004: val_loss did not improve\n",
      "668/668 [==============================] - 1s - loss: 0.0895 - acc: 0.9850 - val_loss: 7.3230 - val_acc: 0.0719"
     ]
    },
    {
     "name": "stderr",
     "output_type": "stream",
     "text": [
      "  1%|          | 5/668 [00:00<00:15, 43.24it/s]"
     ]
    },
    {
     "name": "stdout",
     "output_type": "stream",
     "text": [
      "\n"
     ]
    },
    {
     "name": "stderr",
     "output_type": "stream",
     "text": [
      "100%|██████████| 668/668 [00:16<00:00, 41.02it/s]\n"
     ]
    },
    {
     "name": "stdout",
     "output_type": "stream",
     "text": [
      "Train on 668 samples, validate on 835 samples\n",
      "Epoch 1/5\n",
      "650/668 [============================>.] - ETA: 0s - loss: 5.3154 - acc: 0.0615Epoch 00000: val_loss did not improve\n",
      "668/668 [==============================] - 1s - loss: 5.3001 - acc: 0.0614 - val_loss: 4.6545 - val_acc: 0.0575\n",
      "Epoch 2/5\n",
      "650/668 [============================>.] - ETA: 0s - loss: 3.1080 - acc: 0.3231Epoch 00001: val_loss did not improve\n",
      "668/668 [==============================] - 1s - loss: 3.0920 - acc: 0.3234 - val_loss: 5.5999 - val_acc: 0.0623\n",
      "Epoch 3/5\n",
      "650/668 [============================>.] - ETA: 0s - loss: 1.3656 - acc: 0.7062Epoch 00002: val_loss did not improve\n",
      "668/668 [==============================] - 1s - loss: 1.3516 - acc: 0.7096 - val_loss: 6.3972 - val_acc: 0.0539\n",
      "Epoch 4/5\n",
      "650/668 [============================>.] - ETA: 0s - loss: 0.4266 - acc: 0.9262Epoch 00003: val_loss did not improve\n",
      "668/668 [==============================] - 1s - loss: 0.4188 - acc: 0.9266 - val_loss: 7.0323 - val_acc: 0.0743\n",
      "Epoch 5/5\n",
      "650/668 [============================>.] - ETA: 0s - loss: 0.1329 - acc: 0.9877Epoch 00004: val_loss did not improve\n",
      "668/668 [==============================] - 1s - loss: 0.1296 - acc: 0.9880 - val_loss: 7.3673 - val_acc: 0.0778"
     ]
    },
    {
     "name": "stderr",
     "output_type": "stream",
     "text": [
      "  1%|          | 6/668 [00:00<00:11, 59.92it/s]"
     ]
    },
    {
     "name": "stdout",
     "output_type": "stream",
     "text": [
      "\n"
     ]
    },
    {
     "name": "stderr",
     "output_type": "stream",
     "text": [
      "100%|██████████| 668/668 [00:16<00:00, 39.60it/s]\n"
     ]
    },
    {
     "name": "stdout",
     "output_type": "stream",
     "text": [
      "Train on 668 samples, validate on 835 samples\n",
      "Epoch 1/5\n",
      "650/668 [============================>.] - ETA: 0s - loss: 5.2657 - acc: 0.0538Epoch 00000: val_loss did not improve\n",
      "668/668 [==============================] - 1s - loss: 5.2559 - acc: 0.0539 - val_loss: 4.6507 - val_acc: 0.0587\n",
      "Epoch 2/5\n",
      "650/668 [============================>.] - ETA: 0s - loss: 3.2659 - acc: 0.2815Epoch 00001: val_loss did not improve\n",
      "668/668 [==============================] - 1s - loss: 3.2348 - acc: 0.2859 - val_loss: 5.6781 - val_acc: 0.0743\n",
      "Epoch 3/5\n",
      "650/668 [============================>.] - ETA: 0s - loss: 1.6368 - acc: 0.6200- ETA: 0s - loss: 1.7305 - acc: 0Epoch 00002: val_loss did not improve\n",
      "668/668 [==============================] - 1s - loss: 1.6248 - acc: 0.6198 - val_loss: 6.0097 - val_acc: 0.0743\n",
      "Epoch 4/5\n",
      "650/668 [============================>.] - ETA: 0s - loss: 0.4970 - acc: 0.8892Epoch 00003: val_loss did not improve\n",
      "668/668 [==============================] - 2s - loss: 0.4991 - acc: 0.8877 - val_loss: 7.4120 - val_acc: 0.0754\n",
      "Epoch 5/5\n",
      "650/668 [============================>.] - ETA: 0s - loss: 0.1426 - acc: 0.9692Epoch 00004: val_loss did not improve\n",
      "668/668 [==============================] - 2s - loss: 0.1413 - acc: 0.9701 - val_loss: 7.5745 - val_acc: 0.0838"
     ]
    },
    {
     "name": "stderr",
     "output_type": "stream",
     "text": [
      "  1%|          | 6/668 [00:00<00:18, 35.94it/s]"
     ]
    },
    {
     "name": "stdout",
     "output_type": "stream",
     "text": [
      "\n"
     ]
    },
    {
     "name": "stderr",
     "output_type": "stream",
     "text": [
      "100%|██████████| 668/668 [00:15<00:00, 43.22it/s]\n"
     ]
    },
    {
     "name": "stdout",
     "output_type": "stream",
     "text": [
      "Train on 668 samples, validate on 835 samples\n",
      "Epoch 1/5\n",
      "650/668 [============================>.] - ETA: 0s - loss: 5.3937 - acc: 0.0569Epoch 00000: val_loss did not improve\n",
      "668/668 [==============================] - 1s - loss: 5.3731 - acc: 0.0569 - val_loss: 4.6243 - val_acc: 0.0611\n",
      "Epoch 2/5\n",
      "650/668 [============================>.] - ETA: 0s - loss: 3.2363 - acc: 0.3154Epoch 00001: val_loss did not improve\n",
      "668/668 [==============================] - 1s - loss: 3.2228 - acc: 0.3159 - val_loss: 5.4303 - val_acc: 0.0731\n",
      "Epoch 3/5\n",
      "650/668 [============================>.] - ETA: 0s - loss: 1.5716 - acc: 0.6446- ETA: 0s - loss: 1.6270 - acc: Epoch 00002: val_loss did not improve\n",
      "668/668 [==============================] - 1s - loss: 1.5621 - acc: 0.6467 - val_loss: 6.3067 - val_acc: 0.0683\n",
      "Epoch 4/5\n",
      "650/668 [============================>.] - ETA: 0s - loss: 0.5656 - acc: 0.8846Epoch 00003: val_loss did not improve\n",
      "668/668 [==============================] - 2s - loss: 0.5610 - acc: 0.8862 - val_loss: 6.9883 - val_acc: 0.0778\n",
      "Epoch 5/5\n",
      "650/668 [============================>.] - ETA: 0s - loss: 0.1998 - acc: 0.9738Epoch 00004: val_loss did not improve\n",
      "668/668 [==============================] - 2s - loss: 0.2052 - acc: 0.9716 - val_loss: 8.0618 - val_acc: 0.0527"
     ]
    },
    {
     "name": "stderr",
     "output_type": "stream",
     "text": [
      "  1%|          | 6/668 [00:00<00:12, 53.97it/s]"
     ]
    },
    {
     "name": "stdout",
     "output_type": "stream",
     "text": [
      "\n"
     ]
    },
    {
     "name": "stderr",
     "output_type": "stream",
     "text": [
      "100%|██████████| 668/668 [00:18<00:00, 21.57it/s]\n"
     ]
    },
    {
     "name": "stdout",
     "output_type": "stream",
     "text": [
      "Train on 668 samples, validate on 835 samples\n",
      "Epoch 1/5\n",
      "650/668 [============================>.] - ETA: 0s - loss: 5.4134 - acc: 0.0400Epoch 00000: val_loss improved from 4.60225 to 4.57561, saving model to saved_models/weights.best.from_scratch.hdf5\n",
      "668/668 [==============================] - 2s - loss: 5.3964 - acc: 0.0419 - val_loss: 4.5756 - val_acc: 0.0695\n",
      "Epoch 2/5\n",
      "650/668 [============================>.] - ETA: 0s - loss: 3.4627 - acc: 0.2477Epoch 00001: val_loss did not improve\n",
      "668/668 [==============================] - 1s - loss: 3.4441 - acc: 0.2485 - val_loss: 4.9845 - val_acc: 0.0790\n",
      "Epoch 3/5\n",
      "650/668 [============================>.] - ETA: 0s - loss: 1.8086 - acc: 0.5831- ETA: 1s - loss: 2.0077 - Epoch 00002: val_loss did not improve\n",
      "668/668 [==============================] - 1s - loss: 1.8139 - acc: 0.5853 - val_loss: 5.7515 - val_acc: 0.0659\n",
      "Epoch 4/5\n",
      "650/668 [============================>.] - ETA: 0s - loss: 0.7485 - acc: 0.8492- ETA: 0s - loss: 0.8926 - acEpoch 00003: val_loss did not improve\n",
      "668/668 [==============================] - 2s - loss: 0.7385 - acc: 0.8518 - val_loss: 6.5880 - val_acc: 0.0695\n",
      "Epoch 5/5\n",
      "650/668 [============================>.] - ETA: 0s - loss: 0.2939 - acc: 0.9431Epoch 00004: val_loss did not improve\n",
      "668/668 [==============================] - 2s - loss: 0.2899 - acc: 0.9431 - val_loss: 7.5037 - val_acc: 0.0671\n"
     ]
    }
   ],
   "source": [
    "from keras.callbacks import ModelCheckpoint  \n",
    "\n",
    "### TODO: specify the number of epochs that you would like to use to train the model.\n",
    "\n",
    "epochs = 5\n",
    "\n",
    "### Do NOT modify the code below this line.\n",
    "\n",
    "checkpointer = ModelCheckpoint(filepath='saved_models/weights.best.from_scratch.hdf5', \n",
    "                               verbose=1, save_best_only=True)\n",
    "\n",
    "for train_tensors, train_target in get_batches(train_files, train_targets):\n",
    "    model.fit(train_tensors, train_target, \n",
    "          validation_data=(valid_tensors, valid_targets),\n",
    "          epochs=epochs, batch_size=50, callbacks=[checkpointer], verbose=1)"
   ]
  },
  {
   "cell_type": "markdown",
   "metadata": {},
   "source": [
    "### Load the Model with the Best Validation Loss"
   ]
  },
  {
   "cell_type": "code",
   "execution_count": 21,
   "metadata": {
    "collapsed": true
   },
   "outputs": [],
   "source": [
    "model.load_weights('saved_models/weights.best.from_scratch.hdf5')"
   ]
  },
  {
   "cell_type": "markdown",
   "metadata": {},
   "source": [
    "### Test the Model\n",
    "\n",
    "Try out your model on the test dataset of dog images.  Ensure that your test accuracy is greater than 1%."
   ]
  },
  {
   "cell_type": "code",
   "execution_count": 22,
   "metadata": {},
   "outputs": [
    {
     "name": "stdout",
     "output_type": "stream",
     "text": [
      "Test accuracy: 4.5455%\n"
     ]
    }
   ],
   "source": [
    "# get index of predicted dog breed for each image in test set\n",
    "dog_breed_predictions = [np.argmax(model.predict(np.expand_dims(tensor, axis=0))) for tensor in test_tensors]\n",
    "\n",
    "# report test accuracy\n",
    "test_accuracy = 100*np.sum(np.array(dog_breed_predictions)==np.argmax(test_targets, axis=1))/len(dog_breed_predictions)\n",
    "print('Test accuracy: %.4f%%' % test_accuracy)"
   ]
  },
  {
   "cell_type": "markdown",
   "metadata": {},
   "source": [
    "---\n",
    "<a id='step4'></a>\n",
    "## Step 4: Use a CNN to Classify Dog Breeds\n",
    "\n",
    "To reduce training time without sacrificing accuracy, we show you how to train a CNN using transfer learning.  In the following step, you will get a chance to use transfer learning to train your own CNN.\n",
    "\n",
    "### Obtain Bottleneck Features"
   ]
  },
  {
   "cell_type": "code",
   "execution_count": 23,
   "metadata": {
    "collapsed": true
   },
   "outputs": [],
   "source": [
    "bottleneck_features = np.load('bottleneck_features/DogVGG16Data.npz')\n",
    "train_VGG16 = bottleneck_features['train']\n",
    "valid_VGG16 = bottleneck_features['valid']\n",
    "test_VGG16 = bottleneck_features['test']"
   ]
  },
  {
   "cell_type": "markdown",
   "metadata": {},
   "source": [
    "### Model Architecture\n",
    "\n",
    "The model uses the the pre-trained VGG-16 model as a fixed feature extractor, where the last convolutional output of VGG-16 is fed as input to our model.  We only add a global average pooling layer and a fully connected layer, where the latter contains one node for each dog category and is equipped with a softmax."
   ]
  },
  {
   "cell_type": "code",
   "execution_count": 24,
   "metadata": {},
   "outputs": [
    {
     "name": "stdout",
     "output_type": "stream",
     "text": [
      "_________________________________________________________________\n",
      "Layer (type)                 Output Shape              Param #   \n",
      "=================================================================\n",
      "global_average_pooling2d_1 ( (None, 512)               0         \n",
      "_________________________________________________________________\n",
      "dense_2 (Dense)              (None, 133)               68229     \n",
      "=================================================================\n",
      "Total params: 68,229\n",
      "Trainable params: 68,229\n",
      "Non-trainable params: 0\n",
      "_________________________________________________________________\n"
     ]
    }
   ],
   "source": [
    "VGG16_model = Sequential()\n",
    "VGG16_model.add(GlobalAveragePooling2D(input_shape=train_VGG16.shape[1:]))\n",
    "VGG16_model.add(Dense(133, activation='softmax'))\n",
    "\n",
    "VGG16_model.summary()"
   ]
  },
  {
   "cell_type": "markdown",
   "metadata": {},
   "source": [
    "### Compile the Model"
   ]
  },
  {
   "cell_type": "code",
   "execution_count": 25,
   "metadata": {
    "collapsed": true
   },
   "outputs": [],
   "source": [
    "VGG16_model.compile(loss='categorical_crossentropy', optimizer='rmsprop', metrics=['accuracy'])"
   ]
  },
  {
   "cell_type": "markdown",
   "metadata": {},
   "source": [
    "### Train the Model"
   ]
  },
  {
   "cell_type": "code",
   "execution_count": 28,
   "metadata": {},
   "outputs": [
    {
     "name": "stdout",
     "output_type": "stream",
     "text": [
      "Train on 6680 samples, validate on 835 samples\n",
      "Epoch 1/20\n",
      "6660/6680 [============================>.] - ETA: 0s - loss: 12.5485 - acc: 0.1162Epoch 00000: val_loss improved from inf to 11.13282, saving model to saved_models/weights.best.VGG16.hdf5\n",
      "6680/6680 [==============================] - 2s - loss: 12.5403 - acc: 0.1165 - val_loss: 11.1328 - val_acc: 0.1904\n",
      "Epoch 2/20\n",
      "6640/6680 [============================>.] - ETA: 0s - loss: 10.5266 - acc: 0.2617Epoch 00001: val_loss improved from 11.13282 to 10.60635, saving model to saved_models/weights.best.VGG16.hdf5\n",
      "6680/6680 [==============================] - 2s - loss: 10.5323 - acc: 0.2617 - val_loss: 10.6063 - val_acc: 0.2515\n",
      "Epoch 3/20\n",
      "6600/6680 [============================>.] - ETA: 0s - loss: 10.0890 - acc: 0.3135Epoch 00002: val_loss improved from 10.60635 to 10.25386, saving model to saved_models/weights.best.VGG16.hdf5\n",
      "6680/6680 [==============================] - 2s - loss: 10.0765 - acc: 0.3142 - val_loss: 10.2539 - val_acc: 0.2922\n",
      "Epoch 4/20\n",
      "6520/6680 [============================>.] - ETA: 0s - loss: 9.7920 - acc: 0.3482Epoch 00003: val_loss improved from 10.25386 to 9.96299, saving model to saved_models/weights.best.VGG16.hdf5\n",
      "6680/6680 [==============================] - 2s - loss: 9.7871 - acc: 0.3485 - val_loss: 9.9630 - val_acc: 0.2970\n",
      "Epoch 5/20\n",
      "6520/6680 [============================>.] - ETA: 0s - loss: 9.4901 - acc: 0.3767Epoch 00004: val_loss improved from 9.96299 to 9.87445, saving model to saved_models/weights.best.VGG16.hdf5\n",
      "6680/6680 [==============================] - 2s - loss: 9.5088 - acc: 0.3757 - val_loss: 9.8744 - val_acc: 0.3186\n",
      "Epoch 6/20\n",
      "6660/6680 [============================>.] - ETA: 0s - loss: 9.4127 - acc: 0.3925Epoch 00005: val_loss improved from 9.87445 to 9.81021, saving model to saved_models/weights.best.VGG16.hdf5\n",
      "6680/6680 [==============================] - 2s - loss: 9.4093 - acc: 0.3925 - val_loss: 9.8102 - val_acc: 0.3222\n",
      "Epoch 7/20\n",
      "6500/6680 [============================>.] - ETA: 0s - loss: 9.3781 - acc: 0.3995Epoch 00006: val_loss improved from 9.81021 to 9.78775, saving model to saved_models/weights.best.VGG16.hdf5\n",
      "6680/6680 [==============================] - 2s - loss: 9.3659 - acc: 0.4001 - val_loss: 9.7877 - val_acc: 0.3210\n",
      "Epoch 8/20\n",
      "6540/6680 [============================>.] - ETA: 0s - loss: 9.3264 - acc: 0.4086Epoch 00007: val_loss did not improve\n",
      "6680/6680 [==============================] - 2s - loss: 9.3345 - acc: 0.4076 - val_loss: 9.8042 - val_acc: 0.3234\n",
      "Epoch 9/20\n",
      "6660/6680 [============================>.] - ETA: 0s - loss: 9.0887 - acc: 0.4122Epoch 00008: val_loss improved from 9.78775 to 9.61225, saving model to saved_models/weights.best.VGG16.hdf5\n",
      "6680/6680 [==============================] - 2s - loss: 9.0984 - acc: 0.4115 - val_loss: 9.6123 - val_acc: 0.3317\n",
      "Epoch 10/20\n",
      "6620/6680 [============================>.] - ETA: 0s - loss: 8.8869 - acc: 0.4325Epoch 00009: val_loss improved from 9.61225 to 9.51799, saving model to saved_models/weights.best.VGG16.hdf5\n",
      "6680/6680 [==============================] - 2s - loss: 8.9086 - acc: 0.4313 - val_loss: 9.5180 - val_acc: 0.3425\n",
      "Epoch 11/20\n",
      "6540/6680 [============================>.] - ETA: 0s - loss: 8.8513 - acc: 0.4375Epoch 00010: val_loss improved from 9.51799 to 9.46432, saving model to saved_models/weights.best.VGG16.hdf5\n",
      "6680/6680 [==============================] - 2s - loss: 8.8500 - acc: 0.4377 - val_loss: 9.4643 - val_acc: 0.3473\n",
      "Epoch 12/20\n",
      "6660/6680 [============================>.] - ETA: 0s - loss: 8.7395 - acc: 0.4437Epoch 00011: val_loss improved from 9.46432 to 9.38837, saving model to saved_models/weights.best.VGG16.hdf5\n",
      "6680/6680 [==============================] - 1s - loss: 8.7375 - acc: 0.4439 - val_loss: 9.3884 - val_acc: 0.3497\n",
      "Epoch 13/20\n",
      "6560/6680 [============================>.] - ETA: 0s - loss: 8.5143 - acc: 0.4570Epoch 00012: val_loss improved from 9.38837 to 9.06248, saving model to saved_models/weights.best.VGG16.hdf5\n",
      "6680/6680 [==============================] - 2s - loss: 8.5066 - acc: 0.4576 - val_loss: 9.0625 - val_acc: 0.3713\n",
      "Epoch 14/20\n",
      "6500/6680 [============================>.] - ETA: 0s - loss: 8.2733 - acc: 0.4714Epoch 00013: val_loss improved from 9.06248 to 8.87476, saving model to saved_models/weights.best.VGG16.hdf5\n",
      "6680/6680 [==============================] - 2s - loss: 8.2904 - acc: 0.4702 - val_loss: 8.8748 - val_acc: 0.3772\n",
      "Epoch 15/20\n",
      "6520/6680 [============================>.] - ETA: 0s - loss: 8.1450 - acc: 0.4824Epoch 00014: val_loss improved from 8.87476 to 8.76460, saving model to saved_models/weights.best.VGG16.hdf5\n",
      "6680/6680 [==============================] - 2s - loss: 8.1678 - acc: 0.4810 - val_loss: 8.7646 - val_acc: 0.3892\n",
      "Epoch 16/20\n",
      "6500/6680 [============================>.] - ETA: 0s - loss: 8.1231 - acc: 0.4891Epoch 00015: val_loss did not improve\n",
      "6680/6680 [==============================] - 2s - loss: 8.1437 - acc: 0.4877 - val_loss: 8.8663 - val_acc: 0.3784\n",
      "Epoch 17/20\n",
      "6540/6680 [============================>.] - ETA: 0s - loss: 8.1218 - acc: 0.4907Epoch 00016: val_loss did not improve\n",
      "6680/6680 [==============================] - 2s - loss: 8.1281 - acc: 0.4901 - val_loss: 8.7948 - val_acc: 0.3820\n",
      "Epoch 18/20\n",
      "6540/6680 [============================>.] - ETA: 0s - loss: 8.0648 - acc: 0.4914Epoch 00017: val_loss improved from 8.76460 to 8.67251, saving model to saved_models/weights.best.VGG16.hdf5\n",
      "6680/6680 [==============================] - 2s - loss: 8.0647 - acc: 0.4916 - val_loss: 8.6725 - val_acc: 0.3928\n",
      "Epoch 19/20\n",
      "6480/6680 [============================>.] - ETA: 0s - loss: 8.0226 - acc: 0.4975Epoch 00018: val_loss did not improve\n",
      "6680/6680 [==============================] - 2s - loss: 8.0247 - acc: 0.4975 - val_loss: 8.6891 - val_acc: 0.3988\n",
      "Epoch 20/20\n",
      "6660/6680 [============================>.] - ETA: 0s - loss: 8.0144 - acc: 0.4994Epoch 00019: val_loss improved from 8.67251 to 8.66928, saving model to saved_models/weights.best.VGG16.hdf5\n",
      "6680/6680 [==============================] - 2s - loss: 8.0145 - acc: 0.4994 - val_loss: 8.6693 - val_acc: 0.4000\n"
     ]
    },
    {
     "data": {
      "text/plain": [
       "<keras.callbacks.History at 0x7f46bfbd1a58>"
      ]
     },
     "execution_count": 28,
     "metadata": {},
     "output_type": "execute_result"
    }
   ],
   "source": [
    "from keras.callbacks import ModelCheckpoint \n",
    "\n",
    "checkpointer = ModelCheckpoint(filepath='saved_models/weights.best.VGG16.hdf5', \n",
    "                               verbose=1, save_best_only=True)\n",
    "\n",
    "VGG16_model.fit(train_VGG16, train_targets, \n",
    "          validation_data=(valid_VGG16, valid_targets),\n",
    "          epochs=20, batch_size=20, callbacks=[checkpointer], verbose=1)"
   ]
  },
  {
   "cell_type": "markdown",
   "metadata": {},
   "source": [
    "### Load the Model with the Best Validation Loss"
   ]
  },
  {
   "cell_type": "code",
   "execution_count": 29,
   "metadata": {
    "collapsed": true
   },
   "outputs": [],
   "source": [
    "VGG16_model.load_weights('saved_models/weights.best.VGG16.hdf5')"
   ]
  },
  {
   "cell_type": "markdown",
   "metadata": {},
   "source": [
    "### Test the Model\n",
    "\n",
    "Now, we can use the CNN to test how well it identifies breed within our test dataset of dog images.  We print the test accuracy below."
   ]
  },
  {
   "cell_type": "code",
   "execution_count": 30,
   "metadata": {},
   "outputs": [
    {
     "name": "stdout",
     "output_type": "stream",
     "text": [
      "Test accuracy: 40.6699%\n"
     ]
    }
   ],
   "source": [
    "# get index of predicted dog breed for each image in test set\n",
    "VGG16_predictions = [np.argmax(VGG16_model.predict(np.expand_dims(feature, axis=0))) for feature in test_VGG16]\n",
    "\n",
    "# report test accuracy\n",
    "test_accuracy = 100*np.sum(np.array(VGG16_predictions)==np.argmax(test_targets, axis=1))/len(VGG16_predictions)\n",
    "print('Test accuracy: %.4f%%' % test_accuracy)"
   ]
  },
  {
   "cell_type": "markdown",
   "metadata": {},
   "source": [
    "### Predict Dog Breed with the Model"
   ]
  },
  {
   "cell_type": "code",
   "execution_count": 31,
   "metadata": {
    "collapsed": true
   },
   "outputs": [],
   "source": [
    "from extract_bottleneck_features import *\n",
    "\n",
    "def VGG16_predict_breed(img_path):\n",
    "    # extract bottleneck features\n",
    "    bottleneck_feature = extract_VGG16(path_to_tensor(img_path))\n",
    "    # obtain predicted vector\n",
    "    predicted_vector = VGG16_model.predict(bottleneck_feature)\n",
    "    # return dog breed that is predicted by the model\n",
    "    return dog_names[np.argmax(predicted_vector)]"
   ]
  },
  {
   "cell_type": "markdown",
   "metadata": {},
   "source": [
    "---\n",
    "<a id='step5'></a>\n",
    "## Step 5: Create a CNN to Classify Dog Breeds (using Transfer Learning)\n",
    "\n",
    "You will now use transfer learning to create a CNN that can identify dog breed from images.  Your CNN must attain at least 60% accuracy on the test set.\n",
    "\n",
    "In Step 4, we used transfer learning to create a CNN using VGG-16 bottleneck features.  In this section, you must use the bottleneck features from a different pre-trained model.  To make things easier for you, we have pre-computed the features for all of the networks that are currently available in Keras:\n",
    "- [VGG-19](https://s3-us-west-1.amazonaws.com/udacity-aind/dog-project/DogVGG19Data.npz) bottleneck features\n",
    "- [ResNet-50](https://s3-us-west-1.amazonaws.com/udacity-aind/dog-project/DogResnet50Data.npz) bottleneck features\n",
    "- [Inception](https://s3-us-west-1.amazonaws.com/udacity-aind/dog-project/DogInceptionV3Data.npz) bottleneck features\n",
    "- [Xception](https://s3-us-west-1.amazonaws.com/udacity-aind/dog-project/DogXceptionData.npz) bottleneck features\n",
    "\n",
    "The files are encoded as such:\n",
    "\n",
    "    Dog{network}Data.npz\n",
    "    \n",
    "where `{network}`, in the above filename, can be one of `VGG19`, `Resnet50`, `InceptionV3`, or `Xception`.  Pick one of the above architectures, download the corresponding bottleneck features, and store the downloaded file in the `bottleneck_features/` folder in the repository.\n",
    "\n",
    "### (IMPLEMENTATION) Obtain Bottleneck Features\n",
    "\n",
    "In the code block below, extract the bottleneck features corresponding to the train, test, and validation sets by running the following:\n",
    "\n",
    "    bottleneck_features = np.load('bottleneck_features/Dog{network}Data.npz')\n",
    "    train_{network} = bottleneck_features['train']\n",
    "    valid_{network} = bottleneck_features['valid']\n",
    "    test_{network} = bottleneck_features['test']"
   ]
  },
  {
   "cell_type": "code",
   "execution_count": 32,
   "metadata": {
    "collapsed": true
   },
   "outputs": [],
   "source": [
    "### TODO: Obtain bottleneck features from another pre-trained CNN.\n",
    "bottleneck_features = np.load('bottleneck_features/DogResnet50Data.npz')\n",
    "train_Resnet50 = bottleneck_features['train']\n",
    "valid_Resnet50 = bottleneck_features['valid']\n",
    "test_Resnet50 = bottleneck_features['test']"
   ]
  },
  {
   "cell_type": "markdown",
   "metadata": {},
   "source": [
    "### (IMPLEMENTATION) Model Architecture\n",
    "\n",
    "Create a CNN to classify dog breed.  At the end of your code cell block, summarize the layers of your model by executing the line:\n",
    "    \n",
    "        <your model's name>.summary()\n",
    "   \n",
    "__Question 5:__ Outline the steps you took to get to your final CNN architecture and your reasoning at each step.  Describe why you think the architecture is suitable for the current problem.\n",
    "\n",
    "__Answer:__ \n",
    "First we developed the simple CNN model from scratch. The accuracy I was getting is very low (4.5% on test data). In order to improve the accuracy either we need to develop CNN model more deep and needs to tune lots of parameter. Also since we have less amount of dataset (~6500 training images). There are high chances of over-fitting of network. \n",
    "\n",
    "Ther other approch we can take is use **transfer learning** which involves taking a pre-trained neural network and adapting the neural network to a new, different data set. depending on both:\n",
    "\n",
    "* the size of the new data set, and\n",
    "* the similarity of the new data set to the original data set\n",
    "\n",
    "In this case we have new data set is small, new data is similar to original training data. So I decided to use:\n",
    "\n",
    "* Bottleneck Features for a ResNet50 model.\n",
    "* Used Global average pooling to reduce the number of parameter this is required because ResNet is very deep model and having huge number of parameters\n",
    "* Add a Dense layer with sofftmax activation function.The output of this layer would be a vector having 133 units.\n",
    "* After defining the architecture we compile the model by setting 'categorical_crossentropy' as the loss function and 'rmsprop' as our optimizer.\n",
    "\n",
    "* Then we train our model with 20 epochs and a batch size of 20.We also use the checkpointer to save the model which attains the best validation loss\n",
    "\n",
    "* Finally we test our model which attains an accuracy around ~80% on test data\n",
    "\n",
    "I have also experimented with VGG-19 but that was  giving me approxamtly 40% which is less than expected (60%). The Other reason also for selecting ResNet architecture is that it solves the vanishing gradient problem while keeping an excellent performance. This allows to have a deeper neural network.\n",
    "\n",
    "\n"
   ]
  },
  {
   "cell_type": "code",
   "execution_count": 33,
   "metadata": {},
   "outputs": [
    {
     "name": "stdout",
     "output_type": "stream",
     "text": [
      "_________________________________________________________________\n",
      "Layer (type)                 Output Shape              Param #   \n",
      "=================================================================\n",
      "global_average_pooling2d_2 ( (None, 2048)              0         \n",
      "_________________________________________________________________\n",
      "dense_3 (Dense)              (None, 133)               272517    \n",
      "=================================================================\n",
      "Total params: 272,517\n",
      "Trainable params: 272,517\n",
      "Non-trainable params: 0\n",
      "_________________________________________________________________\n"
     ]
    }
   ],
   "source": [
    "### TODO: Define your architecture.\n",
    "\n",
    "Resnet50_model = Sequential()\n",
    "Resnet50_model.add(GlobalAveragePooling2D(input_shape=train_Resnet50.shape[1:]))\n",
    "Resnet50_model.add(Dense(133, activation='softmax'))\n",
    "\n",
    "Resnet50_model.summary()"
   ]
  },
  {
   "cell_type": "markdown",
   "metadata": {},
   "source": [
    "### (IMPLEMENTATION) Compile the Model"
   ]
  },
  {
   "cell_type": "code",
   "execution_count": 34,
   "metadata": {
    "collapsed": true
   },
   "outputs": [],
   "source": [
    "### TODO: Compile the model.\n",
    "Resnet50_model.compile(loss='categorical_crossentropy', optimizer='rmsprop', metrics=['accuracy'])"
   ]
  },
  {
   "cell_type": "markdown",
   "metadata": {},
   "source": [
    "### (IMPLEMENTATION) Train the Model\n",
    "\n",
    "Train your model in the code cell below.  Use model checkpointing to save the model that attains the best validation loss.  \n",
    "\n",
    "You are welcome to [augment the training data](https://blog.keras.io/building-powerful-image-classification-models-using-very-little-data.html), but this is not a requirement. "
   ]
  },
  {
   "cell_type": "code",
   "execution_count": 35,
   "metadata": {},
   "outputs": [
    {
     "name": "stdout",
     "output_type": "stream",
     "text": [
      "Train on 6680 samples, validate on 835 samples\n",
      "Epoch 1/20\n",
      "6460/6680 [============================>.] - ETA: 0s - loss: 1.6375 - acc: 0.5941Epoch 00000: val_loss improved from inf to 0.88593, saving model to saved_models/weights.best.Resnet50.hdf5\n",
      "6680/6680 [==============================] - 1s - loss: 1.6117 - acc: 0.5979 - val_loss: 0.8859 - val_acc: 0.7138\n",
      "Epoch 2/20\n",
      "6600/6680 [============================>.] - ETA: 0s - loss: 0.4477 - acc: 0.8594Epoch 00001: val_loss improved from 0.88593 to 0.76387, saving model to saved_models/weights.best.Resnet50.hdf5\n",
      "6680/6680 [==============================] - 1s - loss: 0.4478 - acc: 0.8593 - val_loss: 0.7639 - val_acc: 0.7772\n",
      "Epoch 3/20\n",
      "6660/6680 [============================>.] - ETA: 0s - loss: 0.2694 - acc: 0.9144Epoch 00002: val_loss improved from 0.76387 to 0.67194, saving model to saved_models/weights.best.Resnet50.hdf5\n",
      "6680/6680 [==============================] - 1s - loss: 0.2689 - acc: 0.9145 - val_loss: 0.6719 - val_acc: 0.8024\n",
      "Epoch 4/20\n",
      "6560/6680 [============================>.] - ETA: 0s - loss: 0.1779 - acc: 0.9419Epoch 00003: val_loss did not improve\n",
      "6680/6680 [==============================] - 1s - loss: 0.1789 - acc: 0.9416 - val_loss: 0.6968 - val_acc: 0.8072\n",
      "Epoch 5/20\n",
      "6460/6680 [============================>.] - ETA: 0s - loss: 0.1266 - acc: 0.9615Epoch 00004: val_loss did not improve\n",
      "6680/6680 [==============================] - 1s - loss: 0.1268 - acc: 0.9611 - val_loss: 0.7090 - val_acc: 0.8060\n",
      "Epoch 6/20\n",
      "6460/6680 [============================>.] - ETA: 0s - loss: 0.0873 - acc: 0.9721Epoch 00005: val_loss did not improve\n",
      "6680/6680 [==============================] - 1s - loss: 0.0887 - acc: 0.9716 - val_loss: 0.7106 - val_acc: 0.8144\n",
      "Epoch 7/20\n",
      "6480/6680 [============================>.] - ETA: 0s - loss: 0.0618 - acc: 0.9816Epoch 00006: val_loss did not improve\n",
      "6680/6680 [==============================] - 1s - loss: 0.0623 - acc: 0.9810 - val_loss: 0.7060 - val_acc: 0.8204\n",
      "Epoch 8/20\n",
      "6600/6680 [============================>.] - ETA: 0s - loss: 0.0493 - acc: 0.9862Epoch 00007: val_loss did not improve\n",
      "6680/6680 [==============================] - 1s - loss: 0.0490 - acc: 0.9864 - val_loss: 0.7383 - val_acc: 0.8144\n",
      "Epoch 9/20\n",
      "6480/6680 [============================>.] - ETA: 0s - loss: 0.0390 - acc: 0.9877Epoch 00008: val_loss did not improve\n",
      "6680/6680 [==============================] - 1s - loss: 0.0387 - acc: 0.9880 - val_loss: 0.7222 - val_acc: 0.8216\n",
      "Epoch 10/20\n",
      "6600/6680 [============================>.] - ETA: 0s - loss: 0.0250 - acc: 0.9933Epoch 00009: val_loss did not improve\n",
      "6680/6680 [==============================] - 1s - loss: 0.0249 - acc: 0.9934 - val_loss: 0.7455 - val_acc: 0.8180\n",
      "Epoch 11/20\n",
      "6520/6680 [============================>.] - ETA: 0s - loss: 0.0212 - acc: 0.9946Epoch 00010: val_loss did not improve\n",
      "6680/6680 [==============================] - 1s - loss: 0.0211 - acc: 0.9948 - val_loss: 0.7919 - val_acc: 0.8168\n",
      "Epoch 12/20\n",
      "6480/6680 [============================>.] - ETA: 0s - loss: 0.0176 - acc: 0.9952Epoch 00011: val_loss did not improve\n",
      "6680/6680 [==============================] - 1s - loss: 0.0174 - acc: 0.9952 - val_loss: 0.7811 - val_acc: 0.8192\n",
      "Epoch 13/20\n",
      "6500/6680 [============================>.] - ETA: 0s - loss: 0.0130 - acc: 0.9966Epoch 00012: val_loss did not improve\n",
      "6680/6680 [==============================] - 1s - loss: 0.0134 - acc: 0.9966 - val_loss: 0.8007 - val_acc: 0.8228\n",
      "Epoch 14/20\n",
      "6460/6680 [============================>.] - ETA: 0s - loss: 0.0119 - acc: 0.9972Epoch 00013: val_loss did not improve\n",
      "6680/6680 [==============================] - 1s - loss: 0.0116 - acc: 0.9973 - val_loss: 0.8098 - val_acc: 0.8228\n",
      "Epoch 15/20\n",
      "6580/6680 [============================>.] - ETA: 0s - loss: 0.0107 - acc: 0.9974Epoch 00014: val_loss did not improve\n",
      "6680/6680 [==============================] - 1s - loss: 0.0106 - acc: 0.9975 - val_loss: 0.8193 - val_acc: 0.8347\n",
      "Epoch 16/20\n",
      "6540/6680 [============================>.] - ETA: 0s - loss: 0.0082 - acc: 0.9982Epoch 00015: val_loss did not improve\n",
      "6680/6680 [==============================] - 1s - loss: 0.0081 - acc: 0.9982 - val_loss: 0.8664 - val_acc: 0.8156\n",
      "Epoch 17/20\n",
      "6620/6680 [============================>.] - ETA: 0s - loss: 0.0073 - acc: 0.9988Epoch 00016: val_loss did not improve\n",
      "6680/6680 [==============================] - 1s - loss: 0.0072 - acc: 0.9988 - val_loss: 0.8439 - val_acc: 0.8251\n",
      "Epoch 18/20\n",
      "6460/6680 [============================>.] - ETA: 0s - loss: 0.0074 - acc: 0.9986Epoch 00017: val_loss did not improve\n",
      "6680/6680 [==============================] - 1s - loss: 0.0075 - acc: 0.9984 - val_loss: 0.9066 - val_acc: 0.8299\n",
      "Epoch 19/20\n",
      "6580/6680 [============================>.] - ETA: 0s - loss: 0.0083 - acc: 0.9986Epoch 00018: val_loss did not improve\n",
      "6680/6680 [==============================] - 1s - loss: 0.0083 - acc: 0.9985 - val_loss: 0.9286 - val_acc: 0.8204\n",
      "Epoch 20/20\n",
      "6520/6680 [============================>.] - ETA: 0s - loss: 0.0067 - acc: 0.9988Epoch 00019: val_loss did not improve\n",
      "6680/6680 [==============================] - 1s - loss: 0.0065 - acc: 0.9988 - val_loss: 0.9227 - val_acc: 0.8216\n"
     ]
    },
    {
     "data": {
      "text/plain": [
       "<keras.callbacks.History at 0x7f45e43f0da0>"
      ]
     },
     "execution_count": 35,
     "metadata": {},
     "output_type": "execute_result"
    }
   ],
   "source": [
    "### TODO: Train the model.\n",
    "\n",
    "from keras.callbacks import ModelCheckpoint \n",
    "\n",
    "checkpointer = ModelCheckpoint(filepath='saved_models/weights.best.Resnet50.hdf5', \n",
    "                               verbose=1, save_best_only=True)\n",
    "\n",
    "Resnet50_model.fit(train_Resnet50, train_targets, \n",
    "          validation_data=(valid_Resnet50, valid_targets),\n",
    "          epochs=20, batch_size=20, callbacks=[checkpointer], verbose=1)"
   ]
  },
  {
   "cell_type": "markdown",
   "metadata": {},
   "source": [
    "### (IMPLEMENTATION) Load the Model with the Best Validation Loss"
   ]
  },
  {
   "cell_type": "code",
   "execution_count": 36,
   "metadata": {
    "collapsed": true
   },
   "outputs": [],
   "source": [
    "### TODO: Load the model weights with the best validation loss.\n",
    "Resnet50_model.load_weights('saved_models/weights.best.Resnet50.hdf5')"
   ]
  },
  {
   "cell_type": "markdown",
   "metadata": {},
   "source": [
    "### (IMPLEMENTATION) Test the Model\n",
    "\n",
    "Try out your model on the test dataset of dog images. Ensure that your test accuracy is greater than 60%."
   ]
  },
  {
   "cell_type": "code",
   "execution_count": 37,
   "metadata": {},
   "outputs": [
    {
     "name": "stdout",
     "output_type": "stream",
     "text": [
      "Test accuracy: 80.2632%\n"
     ]
    }
   ],
   "source": [
    "### TODO: Calculate classification accuracy on the test dataset.\n",
    "\n",
    "# get index of predicted dog breed for each image in test set\n",
    "Resnet50_predictions = [np.argmax(Resnet50_model.predict(np.expand_dims(feature, axis=0))) for feature in test_Resnet50]\n",
    "\n",
    "# report test accuracy\n",
    "test_accuracy = 100*np.sum(np.array(Resnet50_predictions)==np.argmax(test_targets, axis=1))/len(Resnet50_predictions)\n",
    "print('Test accuracy: %.4f%%' % test_accuracy)"
   ]
  },
  {
   "cell_type": "markdown",
   "metadata": {},
   "source": [
    "### (IMPLEMENTATION) Predict Dog Breed with the Model\n",
    "\n",
    "Write a function that takes an image path as input and returns the dog breed (`Affenpinscher`, `Afghan_hound`, etc) that is predicted by your model.  \n",
    "\n",
    "Similar to the analogous function in Step 5, your function should have three steps:\n",
    "1. Extract the bottleneck features corresponding to the chosen CNN model.\n",
    "2. Supply the bottleneck features as input to the model to return the predicted vector.  Note that the argmax of this prediction vector gives the index of the predicted dog breed.\n",
    "3. Use the `dog_names` array defined in Step 0 of this notebook to return the corresponding breed.\n",
    "\n",
    "The functions to extract the bottleneck features can be found in `extract_bottleneck_features.py`, and they have been imported in an earlier code cell.  To obtain the bottleneck features corresponding to your chosen CNN architecture, you need to use the function\n",
    "\n",
    "    extract_{network}\n",
    "    \n",
    "where `{network}`, in the above filename, should be one of `VGG19`, `Resnet50`, `InceptionV3`, or `Xception`."
   ]
  },
  {
   "cell_type": "code",
   "execution_count": 38,
   "metadata": {
    "collapsed": true
   },
   "outputs": [],
   "source": [
    "### TODO: Write a function that takes a path to an image as input\n",
    "### and returns the dog breed that is predicted by the model.\n",
    "\n",
    "from extract_bottleneck_features import *\n",
    "\n",
    "def Resnet50_predict_breed(img_path):\n",
    "    # extract bottleneck features\n",
    "    bottleneck_feature = extract_Resnet50(path_to_tensor(img_path))\n",
    "    # obtain predicted vector\n",
    "    predicted_vector = Resnet50_model.predict(bottleneck_feature)\n",
    "    # return dog breed that is predicted by the model\n",
    "    return dog_names[np.argmax(predicted_vector)]"
   ]
  },
  {
   "cell_type": "markdown",
   "metadata": {},
   "source": [
    "---\n",
    "<a id='step6'></a>\n",
    "## Step 6: Write your Algorithm\n",
    "\n",
    "Write an algorithm that accepts a file path to an image and first determines whether the image contains a human, dog, or neither.  Then,\n",
    "- if a __dog__ is detected in the image, return the predicted breed.\n",
    "- if a __human__ is detected in the image, return the resembling dog breed.\n",
    "- if __neither__ is detected in the image, provide output that indicates an error.\n",
    "\n",
    "You are welcome to write your own functions for detecting humans and dogs in images, but feel free to use the `face_detector` and `dog_detector` functions developed above.  You are __required__ to use your CNN from Step 5 to predict dog breed.  \n",
    "\n",
    "Some sample output for our algorithm is provided below, but feel free to design your own user experience!\n",
    "\n",
    "![Sample Human Output](images/sample_human_output.png)\n",
    "\n",
    "\n",
    "### (IMPLEMENTATION) Write your Algorithm"
   ]
  },
  {
   "cell_type": "code",
   "execution_count": 39,
   "metadata": {
    "collapsed": true
   },
   "outputs": [],
   "source": [
    "### TODO: Write your algorithm.\n",
    "### Feel free to use as many code cells as needed.\n",
    "\n",
    "def test_alog(img_path):\n",
    "    image_type = None \n",
    "    dog_breed_name = None\n",
    "    if(dog_detector(img_path)):\n",
    "        image_type = 'Dog'\n",
    "        dog_breed_name = Resnet50_predict_breed(img_path)\n",
    "    elif(face_detector(img_path)):\n",
    "        image_type = 'Human'\n",
    "        dog_breed_name = Resnet50_predict_breed(img_path)\n",
    "    return image_type, dog_breed_name\n"
   ]
  },
  {
   "cell_type": "markdown",
   "metadata": {},
   "source": [
    "---\n",
    "<a id='step7'></a>\n",
    "## Step 7: Test Your Algorithm\n",
    "\n",
    "In this section, you will take your new algorithm for a spin!  What kind of dog does the algorithm think that __you__ look like?  If you have a dog, does it predict your dog's breed accurately?  If you have a cat, does it mistakenly think that your cat is a dog?\n",
    "\n",
    "### (IMPLEMENTATION) Test Your Algorithm on Sample Images!\n",
    "\n",
    "Test your algorithm at least six images on your computer.  Feel free to use any images you like.  Use at least two human and two dog images.  \n",
    "\n",
    "__Question 6:__ Is the output better than you expected :) ?  Or worse :( ?  Provide at least three possible points of improvement for your algorithm.\n",
    "\n",
    "__Answer:__ The output of the CNN model based on ResNet50 seems quite good.It's providing an accuracy of ~80% on test dataset.\n",
    "*  Though it could be more accurate by training more with more images for the given breeds.\n",
    "*  Using Data Augumentation can improve the results\n",
    "*  Different model architectures can be explored to reduce prediction time while maintaining accuracy\n",
    "* It would be good if model can also output confidence lavel of prediction of breed. This will help us to know how certain the model is about any class."
   ]
  },
  {
   "cell_type": "code",
   "execution_count": 40,
   "metadata": {},
   "outputs": [
    {
     "data": {
      "image/png": "[encoded data removed]",
      "text/plain": [
       "<matplotlib.figure.Figure at 0x7f4748f34240>"
      ]
     },
     "metadata": {},
     "output_type": "display_data"
    }
   ],
   "source": [
    "## TODO: Execute your algorithm from Step 6 on\n",
    "## at least 6 images on your computer.\n",
    "## Feel free to use as many code cells as needed.\n",
    "\n",
    "from glob import glob\n",
    "import cv2\n",
    "images = np.array(glob(\"Test_images/*\"))\n",
    "\n",
    "import matplotlib.pyplot as plt\n",
    "%matplotlib inline\n",
    "\n",
    "def test_images(path_name):\n",
    "    fig, axs = plt.subplots(1,7, figsize=(15, 2))\n",
    "    for i in range(len(path_name)):\n",
    "        image_type, dog_breed_name = test_alog(path_name[i])\n",
    "        if(image_type == 'Human'):\n",
    "            img = cv2.imread(path_name[i])\n",
    "            axs[i].set_title('Hello, Human')\n",
    "            axs[i].imshow(img)\n",
    "            axs[i].set_xlabel('You look like a ...' + '\\n' + str(dog_breed_name) + ' dog')\n",
    "        elif(image_type == 'Dog'):\n",
    "            img = cv2.imread(path_name[i])\n",
    "            axs[i].set_title('Hello, Dog')\n",
    "            axs[i].imshow(img)\n",
    "            axs[i].set_xlabel('Your predicated breed is...' + '\\n' + str(dog_breed_name))\n",
    "        else:\n",
    "            img = cv2.imread(path_name[i])\n",
    "            axs[i].set_title('Hello, Image')\n",
    "            axs[i].imshow(img)\n",
    "            axs[i].set_xlabel('You are neither dog ' + '\\n' + 'nor human')\n",
    "    plt.tight_layout()\n",
    "    \n",
    "test_images(images)"
   ]
  },
  {
   "cell_type": "code",
   "execution_count": null,
   "metadata": {
    "collapsed": true
   },
   "outputs": [],
   "source": []
  }
 ],
 "metadata": {
  "anaconda-cloud": {},
  "kernelspec": {
   "display_name": "Python 3",
   "language": "python",
   "name": "python3"
  },
  "language_info": {
   "codemirror_mode": {
    "name": "ipython",
    "version": 3
   },
   "file_extension": ".py",
   "mimetype": "text/x-python",
   "name": "python",
   "nbconvert_exporter": "python",
   "pygments_lexer": "ipython3",
   "version": "3.5.2"
  },
  "widgets": {
   "state": {},
   "version": "1.1.2"
  }
 },
 "nbformat": 4,
 "nbformat_minor": 1
}
